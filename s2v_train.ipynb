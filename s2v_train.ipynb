{
 "cells": [
  {
   "cell_type": "markdown",
   "metadata": {},
   "source": [
    "# Train Sense2Vec model with Fasttext"
   ]
  },
  {
   "cell_type": "code",
   "execution_count": 1,
   "metadata": {
    "colab": {
     "base_uri": "https://localhost:8080/"
    },
    "executionInfo": {
     "elapsed": 42561,
     "status": "ok",
     "timestamp": 1659017407262,
     "user": {
      "displayName": "Andrii Maliarenko",
      "userId": "12642501530149060659"
     },
     "user_tz": -180
    },
    "id": "uqNNN5JYGXN1",
    "outputId": "2d5751f1-4fa3-473d-9359-d0f048bb028c"
   },
   "outputs": [
    {
     "name": "stdout",
     "output_type": "stream",
     "text": [
      "Requirement already satisfied: sense2vec in /usr/local/lib/python3.9/site-packages (2.0.0)\n",
      "Requirement already satisfied: fasttext in /usr/local/lib/python3.9/site-packages (0.9.2)\n",
      "Requirement already satisfied: srsly<3.0.0,>=2.4.0 in /usr/local/lib/python3.9/site-packages (from sense2vec) (2.4.3)\n",
      "Requirement already satisfied: catalogue<2.1.0,>=2.0.1 in /usr/local/lib/python3.9/site-packages (from sense2vec) (2.0.7)\n",
      "Requirement already satisfied: spacy<4.0.0,>=3.0.0 in /usr/local/lib/python3.9/site-packages (from sense2vec) (3.4.0)\n",
      "Requirement already satisfied: numpy>=1.15.0 in /usr/local/lib/python3.9/site-packages (from sense2vec) (1.23.1)\n",
      "Requirement already satisfied: wasabi<1.1.0,>=0.8.1 in /usr/local/lib/python3.9/site-packages (from sense2vec) (0.9.1)\n",
      "Requirement already satisfied: setuptools>=0.7.0 in /Users/meister/Library/Python/3.9/lib/python/site-packages (from fasttext) (63.2.0)\n",
      "Requirement already satisfied: pybind11>=2.2 in /usr/local/lib/python3.9/site-packages (from fasttext) (2.10.0)\n",
      "Requirement already satisfied: typer<0.5.0,>=0.3.0 in /usr/local/lib/python3.9/site-packages (from spacy<4.0.0,>=3.0.0->sense2vec) (0.3.2)\n",
      "Requirement already satisfied: packaging>=20.0 in /Users/meister/Library/Python/3.9/lib/python/site-packages (from spacy<4.0.0,>=3.0.0->sense2vec) (21.3)\n",
      "Requirement already satisfied: murmurhash<1.1.0,>=0.28.0 in /usr/local/lib/python3.9/site-packages (from spacy<4.0.0,>=3.0.0->sense2vec) (1.0.7)\n",
      "Requirement already satisfied: preshed<3.1.0,>=3.0.2 in /usr/local/lib/python3.9/site-packages (from spacy<4.0.0,>=3.0.0->sense2vec) (3.0.6)\n",
      "Requirement already satisfied: spacy-loggers<2.0.0,>=1.0.0 in /usr/local/lib/python3.9/site-packages (from spacy<4.0.0,>=3.0.0->sense2vec) (1.0.3)\n",
      "Requirement already satisfied: pydantic!=1.8,!=1.8.1,<1.10.0,>=1.7.4 in /usr/local/lib/python3.9/site-packages (from spacy<4.0.0,>=3.0.0->sense2vec) (1.8.2)\n",
      "Requirement already satisfied: cymem<2.1.0,>=2.0.2 in /usr/local/lib/python3.9/site-packages (from spacy<4.0.0,>=3.0.0->sense2vec) (2.0.6)\n",
      "Requirement already satisfied: tqdm<5.0.0,>=4.38.0 in /usr/local/lib/python3.9/site-packages (from spacy<4.0.0,>=3.0.0->sense2vec) (4.64.0)\n",
      "Requirement already satisfied: langcodes<4.0.0,>=3.2.0 in /usr/local/lib/python3.9/site-packages (from spacy<4.0.0,>=3.0.0->sense2vec) (3.3.0)\n",
      "Requirement already satisfied: spacy-legacy<3.1.0,>=3.0.9 in /usr/local/lib/python3.9/site-packages (from spacy<4.0.0,>=3.0.0->sense2vec) (3.0.9)\n",
      "Requirement already satisfied: requests<3.0.0,>=2.13.0 in /usr/local/lib/python3.9/site-packages (from spacy<4.0.0,>=3.0.0->sense2vec) (2.28.1)\n",
      "Requirement already satisfied: jinja2 in /Users/meister/Library/Python/3.9/lib/python/site-packages (from spacy<4.0.0,>=3.0.0->sense2vec) (3.1.2)\n",
      "Requirement already satisfied: pathy>=0.3.5 in /usr/local/lib/python3.9/site-packages (from spacy<4.0.0,>=3.0.0->sense2vec) (0.6.2)\n",
      "Requirement already satisfied: thinc<8.2.0,>=8.1.0 in /usr/local/lib/python3.9/site-packages (from spacy<4.0.0,>=3.0.0->sense2vec) (8.1.0)\n",
      "Requirement already satisfied: pyparsing!=3.0.5,>=2.0.2 in /Users/meister/Library/Python/3.9/lib/python/site-packages (from packaging>=20.0->spacy<4.0.0,>=3.0.0->sense2vec) (3.0.9)\n",
      "Requirement already satisfied: smart-open<6.0.0,>=5.2.1 in /usr/local/lib/python3.9/site-packages (from pathy>=0.3.5->spacy<4.0.0,>=3.0.0->sense2vec) (5.2.1)\n",
      "Requirement already satisfied: typing-extensions>=3.7.4.3 in /usr/local/lib/python3.9/site-packages (from pydantic!=1.8,!=1.8.1,<1.10.0,>=1.7.4->spacy<4.0.0,>=3.0.0->sense2vec) (4.3.0)\n",
      "Requirement already satisfied: idna<4,>=2.5 in /usr/local/lib/python3.9/site-packages (from requests<3.0.0,>=2.13.0->spacy<4.0.0,>=3.0.0->sense2vec) (3.3)\n",
      "Requirement already satisfied: charset-normalizer<3,>=2 in /usr/local/lib/python3.9/site-packages (from requests<3.0.0,>=2.13.0->spacy<4.0.0,>=3.0.0->sense2vec) (2.1.0)\n",
      "Requirement already satisfied: urllib3<1.27,>=1.21.1 in /usr/local/lib/python3.9/site-packages (from requests<3.0.0,>=2.13.0->spacy<4.0.0,>=3.0.0->sense2vec) (1.26.10)\n",
      "Requirement already satisfied: certifi>=2017.4.17 in /usr/local/lib/python3.9/site-packages (from requests<3.0.0,>=2.13.0->spacy<4.0.0,>=3.0.0->sense2vec) (2022.6.15)\n",
      "Requirement already satisfied: blis<0.8.0,>=0.7.8 in /usr/local/lib/python3.9/site-packages (from thinc<8.2.0,>=8.1.0->spacy<4.0.0,>=3.0.0->sense2vec) (0.7.8)\n",
      "Requirement already satisfied: click<7.2.0,>=7.1.1 in /usr/local/lib/python3.9/site-packages (from typer<0.5.0,>=0.3.0->spacy<4.0.0,>=3.0.0->sense2vec) (7.1.2)\n",
      "Requirement already satisfied: MarkupSafe>=2.0 in /Users/meister/Library/Python/3.9/lib/python/site-packages (from jinja2->spacy<4.0.0,>=3.0.0->sense2vec) (2.1.1)\n"
     ]
    }
   ],
   "source": [
    "!pip install sense2vec fasttext"
   ]
  },
  {
   "cell_type": "markdown",
   "metadata": {},
   "source": [
    "## Prepare dataset"
   ]
  },
  {
   "cell_type": "code",
   "execution_count": 2,
   "metadata": {
    "executionInfo": {
     "elapsed": 11538,
     "status": "ok",
     "timestamp": 1659017423391,
     "user": {
      "displayName": "Andrii Maliarenko",
      "userId": "12642501530149060659"
     },
     "user_tz": -180
    },
    "id": "28znxmat0zmz"
   },
   "outputs": [],
   "source": [
    "import pandas as pd\n",
    "import os\n",
    "from sense2vec import Sense2Vec"
   ]
  },
  {
   "cell_type": "code",
   "execution_count": 3,
   "metadata": {
    "colab": {
     "base_uri": "https://localhost:8080/"
    },
    "executionInfo": {
     "elapsed": 686,
     "status": "ok",
     "timestamp": 1659017429075,
     "user": {
      "displayName": "Andrii Maliarenko",
      "userId": "12642501530149060659"
     },
     "user_tz": -180
    },
    "id": "04FaZUix460a",
    "outputId": "00d1a4ca-fe2b-44cd-b722-f4e7f1dcb835"
   },
   "outputs": [
    {
     "name": "stdout",
     "output_type": "stream",
     "text": [
      "--2022-07-29 09:30:40--  https://raw.githubusercontent.com/merrecalde/curso_la_plata_2019/master/simpsons_dataset.csv\n",
      "Resolving raw.githubusercontent.com (raw.githubusercontent.com)... 185.199.108.133, 185.199.109.133, 185.199.110.133, ...\n",
      "Connecting to raw.githubusercontent.com (raw.githubusercontent.com)|185.199.108.133|:443... connected.\n",
      "HTTP request sent, awaiting response... 200 OK\n",
      "Length: 9373196 (8,9M) [text/plain]\n",
      "Saving to: ‘simpsons_dataset.csv’\n",
      "\n",
      "simpsons_dataset.cs 100%[===================>]   8,94M  6,67MB/s    in 1,3s    \n",
      "\n",
      "2022-07-29 09:30:41 (6,67 MB/s) - ‘simpsons_dataset.csv’ saved [9373196/9373196]\n",
      "\n"
     ]
    }
   ],
   "source": [
    "!wget https://raw.githubusercontent.com/merrecalde/curso_la_plata_2019/master/simpsons_dataset.csv"
   ]
  },
  {
   "cell_type": "code",
   "execution_count": 4,
   "metadata": {
    "colab": {
     "base_uri": "https://localhost:8080/"
    },
    "executionInfo": {
     "elapsed": 238,
     "status": "ok",
     "timestamp": 1659017431988,
     "user": {
      "displayName": "Andrii Maliarenko",
      "userId": "12642501530149060659"
     },
     "user_tz": -180
    },
    "id": "E69B523j1giJ",
    "outputId": "55aed412-9618-4fc1-eaa9-8f31aa47b2df"
   },
   "outputs": [
    {
     "data": {
      "text/plain": [
       "(158314, 2)"
      ]
     },
     "execution_count": 4,
     "metadata": {},
     "output_type": "execute_result"
    }
   ],
   "source": [
    "df = pd.read_csv('./simpsons_dataset.csv')\n",
    "df.shape"
   ]
  },
  {
   "cell_type": "code",
   "execution_count": 5,
   "metadata": {
    "colab": {
     "base_uri": "https://localhost:8080/",
     "height": 206
    },
    "executionInfo": {
     "elapsed": 270,
     "status": "ok",
     "timestamp": 1659017434467,
     "user": {
      "displayName": "Andrii Maliarenko",
      "userId": "12642501530149060659"
     },
     "user_tz": -180
    },
    "id": "_fAgsvwU1i4N",
    "outputId": "dfe9bccc-2139-41cf-d730-152a986e6d1a"
   },
   "outputs": [
    {
     "data": {
      "text/html": [
       "<div>\n",
       "<style scoped>\n",
       "    .dataframe tbody tr th:only-of-type {\n",
       "        vertical-align: middle;\n",
       "    }\n",
       "\n",
       "    .dataframe tbody tr th {\n",
       "        vertical-align: top;\n",
       "    }\n",
       "\n",
       "    .dataframe thead th {\n",
       "        text-align: right;\n",
       "    }\n",
       "</style>\n",
       "<table border=\"1\" class=\"dataframe\">\n",
       "  <thead>\n",
       "    <tr style=\"text-align: right;\">\n",
       "      <th></th>\n",
       "      <th>raw_character_text</th>\n",
       "      <th>spoken_words</th>\n",
       "    </tr>\n",
       "  </thead>\n",
       "  <tbody>\n",
       "    <tr>\n",
       "      <th>0</th>\n",
       "      <td>Miss Hoover</td>\n",
       "      <td>No, actually, it was a little of both. Sometim...</td>\n",
       "    </tr>\n",
       "    <tr>\n",
       "      <th>1</th>\n",
       "      <td>Lisa Simpson</td>\n",
       "      <td>Where's Mr. Bergstrom?</td>\n",
       "    </tr>\n",
       "    <tr>\n",
       "      <th>2</th>\n",
       "      <td>Miss Hoover</td>\n",
       "      <td>I don't know. Although I'd sure like to talk t...</td>\n",
       "    </tr>\n",
       "    <tr>\n",
       "      <th>3</th>\n",
       "      <td>Lisa Simpson</td>\n",
       "      <td>That life is worth living.</td>\n",
       "    </tr>\n",
       "    <tr>\n",
       "      <th>4</th>\n",
       "      <td>Edna Krabappel-Flanders</td>\n",
       "      <td>The polls will be open from now until the end ...</td>\n",
       "    </tr>\n",
       "  </tbody>\n",
       "</table>\n",
       "</div>"
      ],
      "text/plain": [
       "        raw_character_text                                       spoken_words\n",
       "0              Miss Hoover  No, actually, it was a little of both. Sometim...\n",
       "1             Lisa Simpson                             Where's Mr. Bergstrom?\n",
       "2              Miss Hoover  I don't know. Although I'd sure like to talk t...\n",
       "3             Lisa Simpson                         That life is worth living.\n",
       "4  Edna Krabappel-Flanders  The polls will be open from now until the end ..."
      ]
     },
     "execution_count": 5,
     "metadata": {},
     "output_type": "execute_result"
    }
   ],
   "source": [
    "df.head()"
   ]
  },
  {
   "cell_type": "code",
   "execution_count": 6,
   "metadata": {
    "colab": {
     "base_uri": "https://localhost:8080/"
    },
    "executionInfo": {
     "elapsed": 271,
     "status": "ok",
     "timestamp": 1659017436730,
     "user": {
      "displayName": "Andrii Maliarenko",
      "userId": "12642501530149060659"
     },
     "user_tz": -180
    },
    "id": "UUtthEk01m5G",
    "outputId": "94fc6253-3196-40e9-cb5b-75315c6ae193"
   },
   "outputs": [
    {
     "data": {
      "text/plain": [
       "raw_character_text    17814\n",
       "spoken_words          26459\n",
       "dtype: int64"
      ]
     },
     "execution_count": 6,
     "metadata": {},
     "output_type": "execute_result"
    }
   ],
   "source": [
    "df.isnull().sum()"
   ]
  },
  {
   "cell_type": "code",
   "execution_count": 7,
   "metadata": {
    "colab": {
     "base_uri": "https://localhost:8080/"
    },
    "executionInfo": {
     "elapsed": 343,
     "status": "ok",
     "timestamp": 1659017438627,
     "user": {
      "displayName": "Andrii Maliarenko",
      "userId": "12642501530149060659"
     },
     "user_tz": -180
    },
    "id": "LZ5TC2fo1ujz",
    "outputId": "caa697b2-8fa7-489b-8dfa-46ad673f4b40"
   },
   "outputs": [
    {
     "data": {
      "text/plain": [
       "raw_character_text    0\n",
       "spoken_words          0\n",
       "dtype: int64"
      ]
     },
     "execution_count": 7,
     "metadata": {},
     "output_type": "execute_result"
    }
   ],
   "source": [
    "df = df.dropna().reset_index(drop=True)\n",
    "df.isnull().sum()"
   ]
  },
  {
   "cell_type": "code",
   "execution_count": 8,
   "metadata": {
    "colab": {
     "base_uri": "https://localhost:8080/",
     "height": 206
    },
    "executionInfo": {
     "elapsed": 365,
     "status": "ok",
     "timestamp": 1659017440628,
     "user": {
      "displayName": "Andrii Maliarenko",
      "userId": "12642501530149060659"
     },
     "user_tz": -180
    },
    "id": "Ky44zeIH1w7r",
    "outputId": "9797b217-8787-43b0-8bab-e37c39564dfb"
   },
   "outputs": [
    {
     "data": {
      "text/html": [
       "<div>\n",
       "<style scoped>\n",
       "    .dataframe tbody tr th:only-of-type {\n",
       "        vertical-align: middle;\n",
       "    }\n",
       "\n",
       "    .dataframe tbody tr th {\n",
       "        vertical-align: top;\n",
       "    }\n",
       "\n",
       "    .dataframe thead th {\n",
       "        text-align: right;\n",
       "    }\n",
       "</style>\n",
       "<table border=\"1\" class=\"dataframe\">\n",
       "  <thead>\n",
       "    <tr style=\"text-align: right;\">\n",
       "      <th></th>\n",
       "      <th>raw_character_text</th>\n",
       "      <th>spoken_words</th>\n",
       "    </tr>\n",
       "  </thead>\n",
       "  <tbody>\n",
       "    <tr>\n",
       "      <th>0</th>\n",
       "      <td>Miss Hoover</td>\n",
       "      <td>No, actually, it was a little of both. Sometim...</td>\n",
       "    </tr>\n",
       "    <tr>\n",
       "      <th>1</th>\n",
       "      <td>Lisa Simpson</td>\n",
       "      <td>Where's Mr. Bergstrom?</td>\n",
       "    </tr>\n",
       "    <tr>\n",
       "      <th>2</th>\n",
       "      <td>Miss Hoover</td>\n",
       "      <td>I don't know. Although I'd sure like to talk t...</td>\n",
       "    </tr>\n",
       "    <tr>\n",
       "      <th>3</th>\n",
       "      <td>Lisa Simpson</td>\n",
       "      <td>That life is worth living.</td>\n",
       "    </tr>\n",
       "    <tr>\n",
       "      <th>4</th>\n",
       "      <td>Edna Krabappel-Flanders</td>\n",
       "      <td>The polls will be open from now until the end ...</td>\n",
       "    </tr>\n",
       "  </tbody>\n",
       "</table>\n",
       "</div>"
      ],
      "text/plain": [
       "        raw_character_text                                       spoken_words\n",
       "0              Miss Hoover  No, actually, it was a little of both. Sometim...\n",
       "1             Lisa Simpson                             Where's Mr. Bergstrom?\n",
       "2              Miss Hoover  I don't know. Although I'd sure like to talk t...\n",
       "3             Lisa Simpson                         That life is worth living.\n",
       "4  Edna Krabappel-Flanders  The polls will be open from now until the end ..."
      ]
     },
     "execution_count": 8,
     "metadata": {},
     "output_type": "execute_result"
    }
   ],
   "source": [
    "df.head()"
   ]
  },
  {
   "cell_type": "code",
   "execution_count": 9,
   "metadata": {
    "executionInfo": {
     "elapsed": 352,
     "status": "ok",
     "timestamp": 1659017442853,
     "user": {
      "displayName": "Andrii Maliarenko",
      "userId": "12642501530149060659"
     },
     "user_tz": -180
    },
    "id": "QJyKcn8J1zt7"
   },
   "outputs": [],
   "source": [
    "sent = [row for row in df['spoken_words']]"
   ]
  },
  {
   "cell_type": "code",
   "execution_count": 10,
   "metadata": {
    "colab": {
     "base_uri": "https://localhost:8080/",
     "height": 53
    },
    "executionInfo": {
     "elapsed": 447,
     "status": "ok",
     "timestamp": 1659017445126,
     "user": {
      "displayName": "Andrii Maliarenko",
      "userId": "12642501530149060659"
     },
     "user_tz": -180
    },
    "id": "Dm5hZW8W1-qR",
    "outputId": "831f2c26-ce18-42ed-e88e-80aa975e4edb"
   },
   "outputs": [
    {
     "data": {
      "text/plain": [
       "\"No, actually, it was a little of both. Sometimes when a disease is in all the magazines and all the news shows, it's only natural that you think you have it.\""
      ]
     },
     "execution_count": 10,
     "metadata": {},
     "output_type": "execute_result"
    }
   ],
   "source": [
    "sent[0]"
   ]
  },
  {
   "cell_type": "code",
   "execution_count": 11,
   "metadata": {
    "executionInfo": {
     "elapsed": 654,
     "status": "ok",
     "timestamp": 1659017447627,
     "user": {
      "displayName": "Andrii Maliarenko",
      "userId": "12642501530149060659"
     },
     "user_tz": -180
    },
    "id": "U_-_U7tD2zKr"
   },
   "outputs": [],
   "source": [
    "with open('lines.txt', 'a') as f:\n",
    "    f.writelines('\\n'.join(sent))"
   ]
  },
  {
   "cell_type": "code",
   "execution_count": 12,
   "metadata": {
    "colab": {
     "base_uri": "https://localhost:8080/"
    },
    "executionInfo": {
     "elapsed": 438,
     "status": "ok",
     "timestamp": 1659018086331,
     "user": {
      "displayName": "Andrii Maliarenko",
      "userId": "12642501530149060659"
     },
     "user_tz": -180
    },
    "id": "QX9OCdQKJVIm",
    "outputId": "3c2df981-5348-4358-efbf-f68170f9aca8"
   },
   "outputs": [
    {
     "name": "stdout",
     "output_type": "stream",
     "text": [
      "No, actually, it was a little of both. Sometimes when a disease is in all the magazines and all the news shows, it's only natural that you think you have it.\r\n",
      "Where's Mr. Bergstrom?\r\n",
      "I don't know. Although I'd sure like to talk to him. He didn't touch my lesson plan. What did he teach you?\r\n",
      "That life is worth living.\r\n",
      "The polls will be open from now until the end of recess. Now, just in case any of you have decided to put any thought into this, we'll have our final statements. Martin?\r\n",
      "I don't think there's anything left to say.\r\n",
      "Bart?\r\n",
      "Victory party under the slide!\r\n",
      "Mr. Bergstrom! Mr. Bergstrom!\r\n",
      "Hey, hey, he Moved out this morning. He must have a new job -- he took his Copernicus costume.\r\n"
     ]
    }
   ],
   "source": [
    "! head lines.txt"
   ]
  },
  {
   "cell_type": "markdown",
   "metadata": {},
   "source": [
    "## Download scripts for training"
   ]
  },
  {
   "cell_type": "code",
   "execution_count": 13,
   "metadata": {
    "executionInfo": {
     "elapsed": 235,
     "status": "ok",
     "timestamp": 1659018095779,
     "user": {
      "displayName": "Andrii Maliarenko",
      "userId": "12642501530149060659"
     },
     "user_tz": -180
    },
    "id": "Pwdq2VL14FTm"
   },
   "outputs": [],
   "source": [
    "os.mkdir('scripts')\n",
    "os.mkdir('parse_output')\n",
    "os.mkdir('fasttext_output')\n",
    "os.mkdir('s2v')"
   ]
  },
  {
   "cell_type": "code",
   "execution_count": 14,
   "metadata": {
    "colab": {
     "base_uri": "https://localhost:8080/"
    },
    "executionInfo": {
     "elapsed": 8,
     "status": "ok",
     "timestamp": 1659018098549,
     "user": {
      "displayName": "Andrii Maliarenko",
      "userId": "12642501530149060659"
     },
     "user_tz": -180
    },
    "id": "5D3b9xbkG90X",
    "outputId": "e951359c-4c6e-473d-c0f1-e1520c7d447e"
   },
   "outputs": [
    {
     "name": "stdout",
     "output_type": "stream",
     "text": [
      "/Users/meister/DOCS/ONIX/sense2vec/scripts\n"
     ]
    }
   ],
   "source": [
    "%cd ./scripts"
   ]
  },
  {
   "cell_type": "code",
   "execution_count": 15,
   "metadata": {
    "colab": {
     "base_uri": "https://localhost:8080/"
    },
    "executionInfo": {
     "elapsed": 741,
     "status": "ok",
     "timestamp": 1659018101262,
     "user": {
      "displayName": "Andrii Maliarenko",
      "userId": "12642501530149060659"
     },
     "user_tz": -180
    },
    "id": "JnQVhaLC5JHg",
    "outputId": "fefcfa3b-d6e9-40b7-9015-874a15554466"
   },
   "outputs": [
    {
     "name": "stdout",
     "output_type": "stream",
     "text": [
      "--2022-07-29 09:30:43--  https://raw.githubusercontent.com/explosion/sense2vec/master/scripts/01_parse.py\n",
      "Resolving raw.githubusercontent.com (raw.githubusercontent.com)... 185.199.108.133, 185.199.109.133, 185.199.110.133, ...\n",
      "Connecting to raw.githubusercontent.com (raw.githubusercontent.com)|185.199.108.133|:443... connected.\n",
      "HTTP request sent, awaiting response... 200 OK\n",
      "Length: 2492 (2,4K) [text/plain]\n",
      "Saving to: ‘01_parse.py’\n",
      "\n",
      "01_parse.py         100%[===================>]   2,43K  --.-KB/s    in 0s      \n",
      "\n",
      "2022-07-29 09:30:44 (5,09 MB/s) - ‘01_parse.py’ saved [2492/2492]\n",
      "\n",
      "--2022-07-29 09:30:44--  https://raw.githubusercontent.com/explosion/sense2vec/master/scripts/02_preprocess.py\n",
      "Reusing existing connection to raw.githubusercontent.com:443.\n",
      "HTTP request sent, awaiting response... 200 OK\n",
      "Length: 2512 (2,5K) [text/plain]\n",
      "Saving to: ‘02_preprocess.py’\n",
      "\n",
      "02_preprocess.py    100%[===================>]   2,45K  --.-KB/s    in 0s      \n",
      "\n",
      "2022-07-29 09:30:44 (12,6 MB/s) - ‘02_preprocess.py’ saved [2512/2512]\n",
      "\n",
      "--2022-07-29 09:30:44--  https://raw.githubusercontent.com/explosion/sense2vec/master/scripts/04_fasttext_train_vectors.py\n",
      "Reusing existing connection to raw.githubusercontent.com:443.\n",
      "HTTP request sent, awaiting response... 200 OK\n",
      "Length: 6141 (6,0K) [text/plain]\n",
      "Saving to: ‘04_fasttext_train_vectors.py’\n",
      "\n",
      "04_fasttext_train_v 100%[===================>]   6,00K  --.-KB/s    in 0,001s  \n",
      "\n",
      "2022-07-29 09:30:44 (6,95 MB/s) - ‘04_fasttext_train_vectors.py’ saved [6141/6141]\n",
      "\n",
      "--2022-07-29 09:30:44--  https://raw.githubusercontent.com/explosion/sense2vec/master/scripts/05_export.py\n",
      "Reusing existing connection to raw.githubusercontent.com:443.\n",
      "HTTP request sent, awaiting response... 200 OK\n",
      "Length: 5220 (5,1K) [text/plain]\n",
      "Saving to: ‘05_export.py’\n",
      "\n",
      "05_export.py        100%[===================>]   5,10K  --.-KB/s    in 0s      \n",
      "\n",
      "2022-07-29 09:30:44 (14,5 MB/s) - ‘05_export.py’ saved [5220/5220]\n",
      "\n",
      "FINISHED --2022-07-29 09:30:44--\n",
      "Total wall clock time: 0,3s\n",
      "Downloaded: 4 files, 16K in 0,002s (8,46 MB/s)\n"
     ]
    }
   ],
   "source": [
    "!wget https://raw.githubusercontent.com/explosion/sense2vec/master/scripts/{01_parse.py,02_preprocess.py,04_fasttext_train_vectors.py,05_export.py}"
   ]
  },
  {
   "cell_type": "code",
   "execution_count": 16,
   "metadata": {
    "colab": {
     "base_uri": "https://localhost:8080/"
    },
    "executionInfo": {
     "elapsed": 286,
     "status": "ok",
     "timestamp": 1659018110434,
     "user": {
      "displayName": "Andrii Maliarenko",
      "userId": "12642501530149060659"
     },
     "user_tz": -180
    },
    "id": "e25KiU-WHY7R",
    "outputId": "8836f01f-e323-4fcb-8312-9efef867cb37"
   },
   "outputs": [
    {
     "name": "stdout",
     "output_type": "stream",
     "text": [
      "/Users/meister/DOCS/ONIX/sense2vec\n"
     ]
    }
   ],
   "source": [
    "%cd .."
   ]
  },
  {
   "cell_type": "markdown",
   "metadata": {},
   "source": [
    "## Train s2v"
   ]
  },
  {
   "cell_type": "code",
   "execution_count": 17,
   "metadata": {
    "colab": {
     "base_uri": "https://localhost:8080/"
    },
    "executionInfo": {
     "elapsed": 7476,
     "status": "ok",
     "timestamp": 1659018119946,
     "user": {
      "displayName": "Andrii Maliarenko",
      "userId": "12642501530149060659"
     },
     "user_tz": -180
    },
    "id": "TiA0TOTX5pGY",
    "outputId": "05af9f28-1ddc-4f50-df94-44c907a08c45"
   },
   "outputs": [
    {
     "name": "stdout",
     "output_type": "stream",
     "text": [
      "Usage: 01_parse.py [OPTIONS] IN_FILE OUT_DIR [SPACY_MODEL]\r\n",
      "\r\n",
      "  Step 1: Parse raw text with spaCy\r\n",
      "\r\n",
      "  Expects an input file with one sentence per line and will output a .spacy\r\n",
      "  file of the parsed collection of Doc objects (DocBin).\r\n",
      "\r\n",
      "Arguments:\r\n",
      "  IN_FILE        Path to input file  [required]\r\n",
      "  OUT_DIR        Path to output directory  [required]\r\n",
      "  [SPACY_MODEL]  Name of spaCy model to use  [default: en_core_web_sm]\r\n",
      "\r\n",
      "Options:\r\n",
      "  -n, --n-process INTEGER         Number of processes (multiprocessing)\r\n",
      "                                  [default: 1]\r\n",
      "\r\n",
      "  -m, --max-docs INTEGER          Maximum docs per batch  [default: 1000000]\r\n",
      "  --install-completion [bash|zsh|fish|powershell|pwsh]\r\n",
      "                                  Install completion for the specified shell.\r\n",
      "  --show-completion [bash|zsh|fish|powershell|pwsh]\r\n",
      "                                  Show completion for the specified shell, to\r\n",
      "                                  copy it or customize the installation.\r\n",
      "\r\n",
      "  --help                          Show this message and exit.\r\n"
     ]
    }
   ],
   "source": [
    "!python3 ./scripts/01_parse.py --help"
   ]
  },
  {
   "cell_type": "code",
   "execution_count": 18,
   "metadata": {
    "colab": {
     "base_uri": "https://localhost:8080/"
    },
    "executionInfo": {
     "elapsed": 201456,
     "status": "ok",
     "timestamp": 1659018327090,
     "user": {
      "displayName": "Andrii Maliarenko",
      "userId": "12642501530149060659"
     },
     "user_tz": -180
    },
    "id": "1gnvaLoG3Mtu",
    "outputId": "064c3434-04de-4e90-c274-845044a02e8d"
   },
   "outputs": [
    {
     "name": "stdout",
     "output_type": "stream",
     "text": [
      "\u001b[38;5;4mℹ Using spaCy model en_core_web_sm\u001b[0m\n",
      "Preprocessing text...\n",
      "Docs: 131853 [06:24, 342.52/s]\n",
      "\u001b[38;5;2m✔ Complete. Saved final parsed docs to file\u001b[0m\n",
      "/Users/meister/DOCS/ONIX/sense2vec/parse_output/lines-1.spacy\n"
     ]
    }
   ],
   "source": [
    "!python3 ./scripts/01_parse.py ./lines.txt ./parse_output"
   ]
  },
  {
   "cell_type": "code",
   "execution_count": 19,
   "metadata": {
    "colab": {
     "base_uri": "https://localhost:8080/"
    },
    "executionInfo": {
     "elapsed": 9,
     "status": "ok",
     "timestamp": 1659018670037,
     "user": {
      "displayName": "Andrii Maliarenko",
      "userId": "12642501530149060659"
     },
     "user_tz": -180
    },
    "id": "Xi2yd6RpN6DM",
    "outputId": "1b307907-cd93-4f63-abf8-56b919df3a8a"
   },
   "outputs": [
    {
     "name": "stdout",
     "output_type": "stream",
     "text": [
      "total 21424\r\n",
      "-rw-r--r--  1 meister  staff  10966030 Jul 29 09:37 lines-1.spacy\r\n"
     ]
    }
   ],
   "source": [
    "!ls -l ./parse_output"
   ]
  },
  {
   "cell_type": "code",
   "execution_count": 20,
   "metadata": {
    "colab": {
     "base_uri": "https://localhost:8080/"
    },
    "executionInfo": {
     "elapsed": 6120,
     "status": "ok",
     "timestamp": 1659018336182,
     "user": {
      "displayName": "Andrii Maliarenko",
      "userId": "12642501530149060659"
     },
     "user_tz": -180
    },
    "id": "1R6VVhGx7uNk",
    "outputId": "4d64e67e-ca8a-4030-f30a-eb3877632a7d"
   },
   "outputs": [
    {
     "name": "stdout",
     "output_type": "stream",
     "text": [
      "Usage: 02_preprocess.py [OPTIONS] IN_FILE OUT_DIR [SPACY_MODEL]\r\n",
      "\r\n",
      "  Step 2: Preprocess text in sense2vec's format\r\n",
      "\r\n",
      "  Expects a binary .spacy input file consisting of the parsed Docs (DocBin)\r\n",
      "  and outputs a text file with one sentence per line in the expected\r\n",
      "  sense2vec format (merged noun phrases, concatenated phrases with\r\n",
      "  underscores and added \"senses\").\r\n",
      "\r\n",
      "  Example input: Rats, mould and broken furniture: the scandal of the UK's\r\n",
      "  refugee housing\r\n",
      "\r\n",
      "  Example output: Rats|NOUN ,|PUNCT mould|NOUN and|CCONJ\r\n",
      "  broken_furniture|NOUN :|PUNCT the|DET scandal|NOUN of|ADP the|DET UK|GPE\r\n",
      "  's|PART refugee_housing|NOUN\r\n",
      "\r\n",
      "Arguments:\r\n",
      "  IN_FILE        Path to input file  [required]\r\n",
      "  OUT_DIR        Path to output directory  [required]\r\n",
      "  [SPACY_MODEL]  Name of spaCy model to use  [default: en_core_web_sm]\r\n",
      "\r\n",
      "Options:\r\n",
      "  -n, --n-process INTEGER         Number of processes (multiprocessing)\r\n",
      "                                  [default: 1]\r\n",
      "\r\n",
      "  --install-completion [bash|zsh|fish|powershell|pwsh]\r\n",
      "                                  Install completion for the specified shell.\r\n",
      "  --show-completion [bash|zsh|fish|powershell|pwsh]\r\n",
      "                                  Show completion for the specified shell, to\r\n",
      "                                  copy it or customize the installation.\r\n",
      "\r\n",
      "  --help                          Show this message and exit.\r\n"
     ]
    }
   ],
   "source": [
    "!python3 ./scripts/02_preprocess.py --help"
   ]
  },
  {
   "cell_type": "code",
   "execution_count": 21,
   "metadata": {
    "colab": {
     "base_uri": "https://localhost:8080/"
    },
    "executionInfo": {
     "elapsed": 33931,
     "status": "ok",
     "timestamp": 1659018380209,
     "user": {
      "displayName": "Andrii Maliarenko",
      "userId": "12642501530149060659"
     },
     "user_tz": -180
    },
    "id": "0UPx8Lf_8GJA",
    "outputId": "e84fa3a7-1f7a-4462-9293-8304aac174f1"
   },
   "outputs": [
    {
     "name": "stdout",
     "output_type": "stream",
     "text": [
      "\u001b[38;5;4mℹ Using spaCy model en_core_web_sm\u001b[0m\n",
      "\u001b[38;5;2m✔ Loaded 131853 parsed docs\u001b[0m\n",
      "Docs: 131853 [00:54, 2422.74/s]\n",
      "\u001b[38;5;2m✔ Successfully preprocessed 131853 docs (1711521 words)\u001b[0m\n",
      "/Users/meister/DOCS/ONIX/sense2vec/parse_output/lines-1.s2v\n"
     ]
    }
   ],
   "source": [
    "!python3 ./scripts/02_preprocess.py ./parse_output/lines-1.spacy ./parse_output"
   ]
  },
  {
   "cell_type": "code",
   "execution_count": 22,
   "metadata": {
    "colab": {
     "base_uri": "https://localhost:8080/"
    },
    "executionInfo": {
     "elapsed": 12,
     "status": "ok",
     "timestamp": 1659018694371,
     "user": {
      "displayName": "Andrii Maliarenko",
      "userId": "12642501530149060659"
     },
     "user_tz": -180
    },
    "id": "AXHf8q_8OELP",
    "outputId": "c6897288-f81f-46c5-8d2a-af563e266126"
   },
   "outputs": [
    {
     "name": "stdout",
     "output_type": "stream",
     "text": [
      "total 54208\r\n",
      "-rw-r--r--  1 meister  staff  16164081 Jul 29 09:38 lines-1.s2v\r\n",
      "-rw-r--r--  1 meister  staff  10966030 Jul 29 09:37 lines-1.spacy\r\n"
     ]
    }
   ],
   "source": [
    "!ls -l ./parse_output"
   ]
  },
  {
   "cell_type": "code",
   "execution_count": 23,
   "metadata": {
    "colab": {
     "base_uri": "https://localhost:8080/"
    },
    "executionInfo": {
     "elapsed": 334,
     "status": "ok",
     "timestamp": 1659018387597,
     "user": {
      "displayName": "Andrii Maliarenko",
      "userId": "12642501530149060659"
     },
     "user_tz": -180
    },
    "id": "9hmJMnwp9GTC",
    "outputId": "ede223a8-2b8d-45fc-9e32-bb5c645cdffa"
   },
   "outputs": [
    {
     "name": "stdout",
     "output_type": "stream",
     "text": [
      "no|INTJ ,|PUNCT actually|ADV ,|PUNCT it|PRON was|AUX a|DET little|ADJ of|ADP both|PRON .|PUNCT sometimes|ADV when|SCONJ a|DET disease|NOUN is|AUX in|ADP all|DET the|DET magazines|NOUN and|CCONJ all|DET the|DET news|NOUN shows|NOUN ,|PUNCT it|PRON 's|AUX only|ADV natural|ADJ that|SCONJ you|PRON think|VERB you|PRON have|VERB it|PRON .|PUNCT\r\n",
      "where|SCONJ 's|AUX mr.|PROPN Bergstrom|PERSON ?|PUNCT\r\n",
      "I|PRON do|AUX n't|PART know|VERB .|PUNCT although|SCONJ I|PRON 'd|AUX sure|ADV like|VERB to|PART talk|VERB to|ADP him|PRON .|PUNCT he|PRON did|AUX n't|PART touch|VERB my|PRON lesson|NOUN plan|NOUN .|PUNCT what|PRON did|AUX he|PRON teach|VERB you|PRON ?|PUNCT\r\n",
      "that|DET life|NOUN is|AUX worth|ADJ living|VERB .|PUNCT\r\n",
      "the|DET polls|NOUN will|AUX be|AUX open|ADJ from|ADP now|ADV until|ADP the|DET end|NOUN of|ADP recess|NOUN .|PUNCT now|ADV ,|PUNCT just|ADV in|ADP case|NOUN any|PRON of|ADP you|PRON have|AUX decided|VERB to|PART put|VERB any|DET thought|NOUN into|ADP this|PRON ,|PUNCT we|PRON 'll|AUX have|VERB our|PRON final|ADJ statements|NOUN .|PUNCT Martin|ORG ?|PUNCT\r\n",
      "I|PRON do|AUX n't|PART think|VERB there|PRON 's|VERB anything|PRON left|VERB to|PART say|VERB .|PUNCT\r\n",
      "Bart|ORG ?|PUNCT\r\n",
      "victory|NOUN party|NOUN under|ADP the|DET slide|NOUN !|PUNCT\r\n",
      "mr.|PROPN Bergstrom|PERSON !|PUNCT mr.|PROPN Bergstrom|PERSON !|PUNCT\r\n",
      "hey|INTJ ,|PUNCT hey|INTJ ,|PUNCT he|PRON moved|VERB out|ADP this_morning|TIME .|PUNCT he|PRON must|AUX have|VERB a|DET new|ADJ job|NOUN --|PUNCT he|PRON took|VERB his|PRON Copernicus|ORG costume|NOUN .|PUNCT\r\n"
     ]
    }
   ],
   "source": [
    "!head ./parse_output/lines-1.s2v"
   ]
  },
  {
   "cell_type": "code",
   "execution_count": 24,
   "metadata": {
    "colab": {
     "base_uri": "https://localhost:8080/"
    },
    "executionInfo": {
     "elapsed": 609,
     "status": "ok",
     "timestamp": 1659018401867,
     "user": {
      "displayName": "Andrii Maliarenko",
      "userId": "12642501530149060659"
     },
     "user_tz": -180
    },
    "id": "WEAv2sRC9w2d",
    "outputId": "d8567fb3-e3cd-4fb0-a541-8c886c8262dc"
   },
   "outputs": [
    {
     "name": "stdout",
     "output_type": "stream",
     "text": [
      "Usage: 04_fasttext_train_vectors.py [OPTIONS] OUT_DIR [IN_DIR]\r\n",
      "\r\n",
      "  Step 4: Train the vectors\r\n",
      "\r\n",
      "  Expects a directory of preprocessed .s2v input files, will concatenate\r\n",
      "  them (using a temporary file on disk) and will use fastText to train a\r\n",
      "  word2vec model. See here for installation instructions:\r\n",
      "  https://github.com/facebookresearch/fastText\r\n",
      "\r\n",
      "  Note that this script will call into fastText and expects you to pass in\r\n",
      "  the built fasttext binary. The command will also be printed if you want to\r\n",
      "  run it separately.\r\n",
      "\r\n",
      "Arguments:\r\n",
      "  OUT_DIR   Path to output directory  [required]\r\n",
      "  [IN_DIR]  Path to directory with preprocessed .s2v file(s)\r\n",
      "\r\n",
      "Options:\r\n",
      "  -t, --n-threads INTEGER         Number of threads  [default: 10]\r\n",
      "  -c, --min-count INTEGER         Minimum count for inclusion in vocab\r\n",
      "                                  [default: 50]\r\n",
      "\r\n",
      "  -s, --vector-size INTEGER       Dimension of word vector representations\r\n",
      "                                  [default: 300]\r\n",
      "\r\n",
      "  -e, --epoch INTEGER             Number of times the fastText model will loop\r\n",
      "                                  over your data  [default: 5]\r\n",
      "\r\n",
      "  -sv, --save-fasttext-model      Save fastText model to output directory as a\r\n",
      "                                  binary file to avoid retraining  [default:\r\n",
      "                                  False]\r\n",
      "\r\n",
      "  -ft, --fasttext-filepath TEXT   Path to saved fastText model .bin file\r\n",
      "  -v, --verbose INTEGER           Set verbosity: 0, 1, or 2  [default: 2]\r\n",
      "  --install-completion [bash|zsh|fish|powershell|pwsh]\r\n",
      "                                  Install completion for the specified shell.\r\n",
      "  --show-completion [bash|zsh|fish|powershell|pwsh]\r\n",
      "                                  Show completion for the specified shell, to\r\n",
      "                                  copy it or customize the installation.\r\n",
      "\r\n",
      "  --help                          Show this message and exit.\r\n"
     ]
    }
   ],
   "source": [
    "!python3 ./scripts/04_fasttext_train_vectors.py --help"
   ]
  },
  {
   "cell_type": "code",
   "execution_count": 25,
   "metadata": {
    "colab": {
     "base_uri": "https://localhost:8080/"
    },
    "executionInfo": {
     "elapsed": 12846,
     "status": "ok",
     "timestamp": 1659018427499,
     "user": {
      "displayName": "Andrii Maliarenko",
      "userId": "12642501530149060659"
     },
     "user_tz": -180
    },
    "id": "wA_s6V4d-gqr",
    "outputId": "6f0adb53-1834-4843-ac73-acc387b5b611"
   },
   "outputs": [
    {
     "name": "stdout",
     "output_type": "stream",
     "text": [
      "\u001b[38;5;4mℹ Training fastText model vectors\u001b[0m\n",
      "\u001b[38;5;4mℹ Created temporary merged input file\u001b[0m\n",
      "parse_output/s2v_input.tmp\n",
      "Read 1M words\n",
      "Number of words:  2017\n",
      "Number of labels: 0\n",
      "Progress: 100.0% words/sec/thread:   54581 lr:  0.000000 avg.loss:  2.487400 ETA:   0h 0m 0sh 0m 6s 0m 5s 2s\n",
      "\u001b[38;5;2m✔ Successfully trained fastText model vectors\u001b[0m\n",
      "\u001b[38;5;2m✔ Deleted temporary input file\u001b[0m\n",
      "parse_output/s2v_input.tmp\n",
      "\u001b[38;5;4mℹ Creating vocabulary file\u001b[0m\n",
      "\u001b[38;5;2m✔ Successfully created vocabulary file\u001b[0m\n",
      "fasttext_output/vocab.txt\n",
      "\u001b[38;5;4mℹ Creating vectors file\u001b[0m\n",
      "\u001b[38;5;2m✔ Successfully created vectors file\u001b[0m\n",
      "fasttext_output/vectors.txt\n"
     ]
    }
   ],
   "source": [
    "!python3 ./scripts/04_fasttext_train_vectors.py ./fasttext_output ./parse_output"
   ]
  },
  {
   "cell_type": "code",
   "execution_count": 26,
   "metadata": {
    "colab": {
     "base_uri": "https://localhost:8080/"
    },
    "executionInfo": {
     "elapsed": 285,
     "status": "ok",
     "timestamp": 1659018723591,
     "user": {
      "displayName": "Andrii Maliarenko",
      "userId": "12642501530149060659"
     },
     "user_tz": -180
    },
    "id": "bAdGetKEOJox",
    "outputId": "95525551-dbf8-463f-e7f8-8ef8cad2fb5b"
   },
   "outputs": [
    {
     "name": "stdout",
     "output_type": "stream",
     "text": [
      "total 13984\r\n",
      "-rw-r--r--  1 meister  staff  7116926 Jul 29 09:38 vectors.txt\r\n",
      "-rw-r--r--  1 meister  staff    39347 Jul 29 09:38 vocab.txt\r\n"
     ]
    }
   ],
   "source": [
    "!ls -l ./fasttext_output"
   ]
  },
  {
   "cell_type": "code",
   "execution_count": 27,
   "metadata": {
    "colab": {
     "base_uri": "https://localhost:8080/"
    },
    "executionInfo": {
     "elapsed": 6244,
     "status": "ok",
     "timestamp": 1659018448646,
     "user": {
      "displayName": "Andrii Maliarenko",
      "userId": "12642501530149060659"
     },
     "user_tz": -180
    },
    "id": "M1eLpR5DAaX1",
    "outputId": "0065cc63-ca34-4a8e-dee5-afe7855f474a"
   },
   "outputs": [
    {
     "name": "stdout",
     "output_type": "stream",
     "text": [
      "Usage: 05_export.py [OPTIONS] IN_FILE VOCAB_FILE OUT_DIR\r\n",
      "\r\n",
      "  Step 5: Export a sense2vec component\r\n",
      "\r\n",
      "  Expects a vectors.txt and a vocab file trained with GloVe and exports a\r\n",
      "  component that can be loaded with Sense2vec.from_disk.\r\n",
      "\r\n",
      "Arguments:\r\n",
      "  IN_FILE     Vectors file (text-based)  [required]\r\n",
      "  VOCAB_FILE  Vocabulary file  [required]\r\n",
      "  OUT_DIR     Path to output directory  [required]\r\n",
      "\r\n",
      "Options:\r\n",
      "  -r, --min-freq-ratio FLOAT      Frequency ratio threshold for discarding\r\n",
      "                                  minority senses or casings  [default: 0.0]\r\n",
      "\r\n",
      "  -s, --min-distance FLOAT        Similarity threshold for discarding\r\n",
      "                                  redundant keys  [default: 0.0]\r\n",
      "\r\n",
      "  --install-completion [bash|zsh|fish|powershell|pwsh]\r\n",
      "                                  Install completion for the specified shell.\r\n",
      "  --show-completion [bash|zsh|fish|powershell|pwsh]\r\n",
      "                                  Show completion for the specified shell, to\r\n",
      "                                  copy it or customize the installation.\r\n",
      "\r\n",
      "  --help                          Show this message and exit.\r\n"
     ]
    }
   ],
   "source": [
    "!python3 ./scripts/05_export.py --help"
   ]
  },
  {
   "cell_type": "code",
   "execution_count": 28,
   "metadata": {
    "colab": {
     "base_uri": "https://localhost:8080/"
    },
    "executionInfo": {
     "elapsed": 6339,
     "status": "ok",
     "timestamp": 1659018468149,
     "user": {
      "displayName": "Andrii Maliarenko",
      "userId": "12642501530149060659"
     },
     "user_tz": -180
    },
    "id": "ji22x7c8Aoxh",
    "outputId": "1da0c360-3ac1-4eb9-8de0-3911d3796bdf"
   },
   "outputs": [
    {
     "name": "stdout",
     "output_type": "stream",
     "text": [
      "\u001b[38;5;2m✔ Created the sense2vec model\u001b[0m\n",
      "\u001b[38;5;4mℹ 2016 vectors, 28 total senses\u001b[0m\n",
      "\u001b[38;5;2m✔ Saved model to directory\u001b[0m\n",
      "./s2v\n"
     ]
    }
   ],
   "source": [
    "!python3 ./scripts/05_export.py ./fasttext_output/vectors.txt ./fasttext_output/vocab.txt ./s2v"
   ]
  },
  {
   "cell_type": "code",
   "execution_count": 29,
   "metadata": {
    "colab": {
     "base_uri": "https://localhost:8080/"
    },
    "executionInfo": {
     "elapsed": 376,
     "status": "ok",
     "timestamp": 1659018752546,
     "user": {
      "displayName": "Andrii Maliarenko",
      "userId": "12642501530149060659"
     },
     "user_tz": -180
    },
    "id": "WPl-7AUoOOze",
    "outputId": "e8becdff-c396-494a-de16-d50a5ebd8aef"
   },
   "outputs": [
    {
     "name": "stdout",
     "output_type": "stream",
     "text": [
      "total 5024\r\n",
      "-rw-r--r--  1 meister  staff      415 Jul 29 09:38 cfg\r\n",
      "-rw-r--r--  1 meister  staff    84795 Jul 29 09:38 freqs.json\r\n",
      "-rw-r--r--  1 meister  staff    23811 Jul 29 09:38 key2row\r\n",
      "-rw-r--r--  1 meister  staff    31920 Jul 29 09:38 strings.json\r\n",
      "-rw-r--r--  1 meister  staff  2419328 Jul 29 09:38 vectors\r\n",
      "-rw-r--r--  1 meister  staff       22 Jul 29 09:38 vectors.cfg\r\n"
     ]
    }
   ],
   "source": [
    "!ls -l ./s2v"
   ]
  },
  {
   "cell_type": "markdown",
   "metadata": {},
   "source": [
    "## Check model"
   ]
  },
  {
   "cell_type": "code",
   "execution_count": 30,
   "metadata": {
    "executionInfo": {
     "elapsed": 246,
     "status": "ok",
     "timestamp": 1659018473521,
     "user": {
      "displayName": "Andrii Maliarenko",
      "userId": "12642501530149060659"
     },
     "user_tz": -180
    },
    "id": "kcnW3SV3BPGb"
   },
   "outputs": [],
   "source": [
    "s2v = Sense2Vec().from_disk('./s2v')"
   ]
  },
  {
   "cell_type": "code",
   "execution_count": 31,
   "metadata": {
    "colab": {
     "base_uri": "https://localhost:8080/"
    },
    "executionInfo": {
     "elapsed": 646,
     "status": "ok",
     "timestamp": 1659018476336,
     "user": {
      "displayName": "Andrii Maliarenko",
      "userId": "12642501530149060659"
     },
     "user_tz": -180
    },
    "id": "kz7_aEBEBRgO",
    "outputId": "09557b3a-a0c7-457d-c9a7-c79381ce71c8"
   },
   "outputs": [
    {
     "data": {
      "text/plain": [
       "['NORP',\n",
       " 'LOC',\n",
       " 'NOUN',\n",
       " 'SCONJ',\n",
       " 'PART',\n",
       " 'GPE',\n",
       " 'ORG',\n",
       " 'WORK OF ART',\n",
       " 'ADJ',\n",
       " 'PRON',\n",
       " 'PROPN',\n",
       " 'AUX',\n",
       " 'PUNCT',\n",
       " 'INTJ',\n",
       " 'NUM',\n",
       " 'ADV',\n",
       " 'TIME',\n",
       " 'CARDINAL',\n",
       " 'ORDINAL',\n",
       " 'VERB',\n",
       " 'CCONJ',\n",
       " 'ADP',\n",
       " 'SYM',\n",
       " 'DET',\n",
       " 'X',\n",
       " 'LANGUAGE',\n",
       " 'PERSON',\n",
       " 'DATE']"
      ]
     },
     "execution_count": 31,
     "metadata": {},
     "output_type": "execute_result"
    }
   ],
   "source": [
    "s2v.senses"
   ]
  },
  {
   "cell_type": "code",
   "execution_count": 32,
   "metadata": {
    "colab": {
     "base_uri": "https://localhost:8080/"
    },
    "executionInfo": {
     "elapsed": 326,
     "status": "ok",
     "timestamp": 1659018511170,
     "user": {
      "displayName": "Andrii Maliarenko",
      "userId": "12642501530149060659"
     },
     "user_tz": -180
    },
    "id": "vIErPXH2NRP_",
    "outputId": "57d6c11c-f0bc-46d0-d37c-42004c9519ea"
   },
   "outputs": [
    {
     "data": {
      "text/plain": [
       "2016"
      ]
     },
     "execution_count": 32,
     "metadata": {},
     "output_type": "execute_result"
    }
   ],
   "source": [
    "len(list(s2v.items()))"
   ]
  },
  {
   "cell_type": "code",
   "execution_count": 33,
   "metadata": {
    "colab": {
     "base_uri": "https://localhost:8080/"
    },
    "executionInfo": {
     "elapsed": 536,
     "status": "ok",
     "timestamp": 1659018515100,
     "user": {
      "displayName": "Andrii Maliarenko",
      "userId": "12642501530149060659"
     },
     "user_tz": -180
    },
    "id": "sHsTBIp_BVwz",
    "outputId": "d8c169f4-daa5-4a64-c606-416aaf50ba49"
   },
   "outputs": [
    {
     "name": "stdout",
     "output_type": "stream",
     "text": [
      ".|PUNCT\n",
      ",|PUNCT\n",
      "I|PRON\n",
      "!|PUNCT\n",
      "you|PRON\n",
      "the|DET\n",
      "?|PUNCT\n",
      "a|DET\n",
      "...|PUNCT\n",
      "and|CCONJ\n",
      "'s|AUX\n",
      "to|PART\n",
      "n't|PART\n",
      "it|PRON\n",
      "of|ADP\n",
      "\"|PUNCT\n",
      "we|PRON\n",
      "my|PRON\n",
      "is|AUX\n",
      "in|ADP\n",
      "-|PUNCT\n",
      "me|PRON\n",
      "that|PRON\n",
      "your|PRON\n",
      "for|ADP\n",
      "'m|AUX\n",
      "to|ADP\n",
      "what|PRON\n",
      "do|AUX\n",
      "oh|INTJ\n",
      "'re|AUX\n",
      "on|ADP\n",
      "but|CCONJ\n",
      "be|AUX\n",
      "just|ADV\n",
      "are|AUX\n",
      "with|ADP\n",
      "not|PART\n",
      "'ll|AUX\n",
      "this|DET\n",
      "he|PRON\n",
      "have|VERB\n",
      "well|INTJ\n",
      "now|ADV\n",
      "was|AUX\n",
      "this|PRON\n",
      "so|ADV\n",
      "'s|PART\n",
      "It|PRON\n",
      "here|ADV\n",
      "can|AUX\n",
      "get|VERB\n",
      "know|VERB\n",
      "'ve|AUX\n",
      "they|PRON\n",
      "got|VERB\n",
      "at|ADP\n",
      "hey|INTJ\n",
      "no|INTJ\n",
      "up|ADP\n",
      "do|VERB\n",
      "that|DET\n",
      "out|ADP\n",
      "go|VERB\n",
      "how|SCONJ\n",
      "--|PUNCT\n",
      "our|PRON\n",
      "like|ADP\n",
      "let|VERB\n",
      "about|ADP\n",
      "uh|INTJ\n",
      "who|PRON\n",
      "from|ADP\n",
      "see|VERB\n",
      "there|PRON\n",
      "yeah|INTJ\n",
      "think|VERB\n",
      "why|SCONJ\n",
      "no|DET\n",
      "will|AUX\n",
      "if|SCONJ\n",
      "did|AUX\n",
      "good|ADJ\n",
      "want|VERB\n",
      "could|AUX\n",
      "ca|AUX\n",
      "an|DET\n",
      "na|PART\n",
      "'|PUNCT\n",
      "look|VERB\n",
      "would|AUX\n",
      "/|PUNCT\n",
      "gon|VERB\n",
      "time|NOUN\n",
      "homer|PROPN\n",
      "that|SCONJ\n",
      "him|PRON\n",
      "little|ADJ\n",
      "us|PRON\n",
      "when|SCONJ\n",
      "all|DET\n"
     ]
    }
   ],
   "source": [
    "for i,(key, _) in enumerate(s2v):\n",
    "    print(key)\n",
    "    if i >= 100:\n",
    "      break"
   ]
  },
  {
   "cell_type": "code",
   "execution_count": 34,
   "metadata": {
    "colab": {
     "base_uri": "https://localhost:8080/"
    },
    "executionInfo": {
     "elapsed": 378,
     "status": "ok",
     "timestamp": 1659018520130,
     "user": {
      "displayName": "Andrii Maliarenko",
      "userId": "12642501530149060659"
     },
     "user_tz": -180
    },
    "id": "T-mm7-UNDnRl",
    "outputId": "0ae8f37f-765c-4d5d-ab84-a83abbe9348f"
   },
   "outputs": [
    {
     "data": {
      "text/plain": [
       "['gon|NOUN']"
      ]
     },
     "execution_count": 34,
     "metadata": {},
     "output_type": "execute_result"
    }
   ],
   "source": [
    "s2v.get_other_senses(\"gon|VERB\")"
   ]
  },
  {
   "cell_type": "code",
   "execution_count": 35,
   "metadata": {
    "colab": {
     "base_uri": "https://localhost:8080/"
    },
    "executionInfo": {
     "elapsed": 6,
     "status": "ok",
     "timestamp": 1659018522576,
     "user": {
      "displayName": "Andrii Maliarenko",
      "userId": "12642501530149060659"
     },
     "user_tz": -180
    },
    "id": "Bb9nlW1xDwLf",
    "outputId": "4bf769a5-3b91-4d38-dd2f-158dd4908eb5"
   },
   "outputs": [
    {
     "data": {
      "text/plain": [
       "[('marge|PROPN', 0.4995),\n",
       " ('barney|PROPN', 0.4748),\n",
       " ('dad|PROPN', 0.4677),\n",
       " ('Barney|PERSON', 0.4653),\n",
       " (\"ma'am|NOUN\", 0.4622),\n",
       " ('homer|NOUN', 0.4591),\n",
       " ('moe|PROPN', 0.438),\n",
       " ('Carl|PERSON', 0.426),\n",
       " ('honey|PROPN', 0.4254),\n",
       " ('sweetie|NOUN', 0.4235)]"
      ]
     },
     "execution_count": 35,
     "metadata": {},
     "output_type": "execute_result"
    }
   ],
   "source": [
    "s2v.most_similar('homer|PROPN', n=10)"
   ]
  }
 ],
 "metadata": {
  "accelerator": "GPU",
  "colab": {
   "authorship_tag": "ABX9TyPdRVfogXyT1w29lCgIp4wC",
   "background_execution": "on",
   "collapsed_sections": [],
   "machine_shape": "hm",
   "name": "sense2vec_train",
   "provenance": []
  },
  "gpuClass": "standard",
  "kernelspec": {
   "display_name": "Python 3 (ipykernel)",
   "language": "python",
   "name": "python3"
  },
  "language_info": {
   "codemirror_mode": {
    "name": "ipython",
    "version": 3
   },
   "file_extension": ".py",
   "mimetype": "text/x-python",
   "name": "python",
   "nbconvert_exporter": "python",
   "pygments_lexer": "ipython3",
   "version": "3.9.12"
  }
 },
 "nbformat": 4,
 "nbformat_minor": 1
}

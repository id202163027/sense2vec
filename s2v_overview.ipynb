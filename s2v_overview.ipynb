{
 "cells": [
  {
   "cell_type": "markdown",
   "metadata": {
    "id": "U3Lk-w-Nw7Fv"
   },
   "source": [
    "# Sense2Vec overview\n",
    "sense2vec ([Trask et. al](https://arxiv.org/abs/1511.06388), 2015): https://github.com/explosion/sense2vec\n",
    "\n",
    "Sense embedding model. Vectors of words and multi-word phrases based on part-of-speech tags and entity labels.\n",
    "It can be used as a standalone module, or as a spaCy pipeline component."
   ]
  },
  {
   "cell_type": "code",
   "execution_count": 1,
   "metadata": {
    "colab": {
     "base_uri": "https://localhost:8080/"
    },
    "executionInfo": {
     "elapsed": 4770,
     "status": "ok",
     "timestamp": 1658849862714,
     "user": {
      "displayName": "Andrii Maliarenko",
      "userId": "12642501530149060659"
     },
     "user_tz": -180
    },
    "id": "nrNSJ4B7cbe0",
    "outputId": "49c7af02-fa31-45e4-de73-36f08c5ace2f"
   },
   "outputs": [
    {
     "name": "stdout",
     "output_type": "stream",
     "text": [
      "Requirement already satisfied: sense2vec in /usr/local/lib/python3.9/site-packages (2.0.0)\n",
      "Requirement already satisfied: spacy<4.0.0,>=3.0.0 in /usr/local/lib/python3.9/site-packages (from sense2vec) (3.4.0)\n",
      "Requirement already satisfied: srsly<3.0.0,>=2.4.0 in /usr/local/lib/python3.9/site-packages (from sense2vec) (2.4.3)\n",
      "Requirement already satisfied: wasabi<1.1.0,>=0.8.1 in /usr/local/lib/python3.9/site-packages (from sense2vec) (0.9.1)\n",
      "Requirement already satisfied: catalogue<2.1.0,>=2.0.1 in /usr/local/lib/python3.9/site-packages (from sense2vec) (2.0.7)\n",
      "Requirement already satisfied: numpy>=1.15.0 in /usr/local/lib/python3.9/site-packages (from sense2vec) (1.23.1)\n",
      "Requirement already satisfied: setuptools in /Users/meister/Library/Python/3.9/lib/python/site-packages (from spacy<4.0.0,>=3.0.0->sense2vec) (63.2.0)\n",
      "Requirement already satisfied: jinja2 in /Users/meister/Library/Python/3.9/lib/python/site-packages (from spacy<4.0.0,>=3.0.0->sense2vec) (3.1.2)\n",
      "Requirement already satisfied: cymem<2.1.0,>=2.0.2 in /usr/local/lib/python3.9/site-packages (from spacy<4.0.0,>=3.0.0->sense2vec) (2.0.6)\n",
      "Requirement already satisfied: murmurhash<1.1.0,>=0.28.0 in /usr/local/lib/python3.9/site-packages (from spacy<4.0.0,>=3.0.0->sense2vec) (1.0.7)\n",
      "Requirement already satisfied: pathy>=0.3.5 in /usr/local/lib/python3.9/site-packages (from spacy<4.0.0,>=3.0.0->sense2vec) (0.6.2)\n",
      "Requirement already satisfied: requests<3.0.0,>=2.13.0 in /usr/local/lib/python3.9/site-packages (from spacy<4.0.0,>=3.0.0->sense2vec) (2.28.1)\n",
      "Requirement already satisfied: tqdm<5.0.0,>=4.38.0 in /usr/local/lib/python3.9/site-packages (from spacy<4.0.0,>=3.0.0->sense2vec) (4.64.0)\n",
      "Requirement already satisfied: pydantic!=1.8,!=1.8.1,<1.10.0,>=1.7.4 in /usr/local/lib/python3.9/site-packages (from spacy<4.0.0,>=3.0.0->sense2vec) (1.8.2)\n",
      "Requirement already satisfied: preshed<3.1.0,>=3.0.2 in /usr/local/lib/python3.9/site-packages (from spacy<4.0.0,>=3.0.0->sense2vec) (3.0.6)\n",
      "Requirement already satisfied: spacy-legacy<3.1.0,>=3.0.9 in /usr/local/lib/python3.9/site-packages (from spacy<4.0.0,>=3.0.0->sense2vec) (3.0.9)\n",
      "Requirement already satisfied: spacy-loggers<2.0.0,>=1.0.0 in /usr/local/lib/python3.9/site-packages (from spacy<4.0.0,>=3.0.0->sense2vec) (1.0.3)\n",
      "Requirement already satisfied: langcodes<4.0.0,>=3.2.0 in /usr/local/lib/python3.9/site-packages (from spacy<4.0.0,>=3.0.0->sense2vec) (3.3.0)\n",
      "Requirement already satisfied: packaging>=20.0 in /Users/meister/Library/Python/3.9/lib/python/site-packages (from spacy<4.0.0,>=3.0.0->sense2vec) (21.3)\n",
      "Requirement already satisfied: typer<0.5.0,>=0.3.0 in /usr/local/lib/python3.9/site-packages (from spacy<4.0.0,>=3.0.0->sense2vec) (0.3.2)\n",
      "Requirement already satisfied: thinc<8.2.0,>=8.1.0 in /usr/local/lib/python3.9/site-packages (from spacy<4.0.0,>=3.0.0->sense2vec) (8.1.0)\n",
      "Requirement already satisfied: pyparsing!=3.0.5,>=2.0.2 in /Users/meister/Library/Python/3.9/lib/python/site-packages (from packaging>=20.0->spacy<4.0.0,>=3.0.0->sense2vec) (3.0.9)\n",
      "Requirement already satisfied: smart-open<6.0.0,>=5.2.1 in /usr/local/lib/python3.9/site-packages (from pathy>=0.3.5->spacy<4.0.0,>=3.0.0->sense2vec) (5.2.1)\n",
      "Requirement already satisfied: typing-extensions>=3.7.4.3 in /usr/local/lib/python3.9/site-packages (from pydantic!=1.8,!=1.8.1,<1.10.0,>=1.7.4->spacy<4.0.0,>=3.0.0->sense2vec) (4.3.0)\n",
      "Requirement already satisfied: certifi>=2017.4.17 in /usr/local/lib/python3.9/site-packages (from requests<3.0.0,>=2.13.0->spacy<4.0.0,>=3.0.0->sense2vec) (2022.6.15)\n",
      "Requirement already satisfied: urllib3<1.27,>=1.21.1 in /usr/local/lib/python3.9/site-packages (from requests<3.0.0,>=2.13.0->spacy<4.0.0,>=3.0.0->sense2vec) (1.26.10)\n",
      "Requirement already satisfied: idna<4,>=2.5 in /usr/local/lib/python3.9/site-packages (from requests<3.0.0,>=2.13.0->spacy<4.0.0,>=3.0.0->sense2vec) (3.3)\n",
      "Requirement already satisfied: charset-normalizer<3,>=2 in /usr/local/lib/python3.9/site-packages (from requests<3.0.0,>=2.13.0->spacy<4.0.0,>=3.0.0->sense2vec) (2.1.0)\n",
      "Requirement already satisfied: blis<0.8.0,>=0.7.8 in /usr/local/lib/python3.9/site-packages (from thinc<8.2.0,>=8.1.0->spacy<4.0.0,>=3.0.0->sense2vec) (0.7.8)\n",
      "Requirement already satisfied: click<7.2.0,>=7.1.1 in /usr/local/lib/python3.9/site-packages (from typer<0.5.0,>=0.3.0->spacy<4.0.0,>=3.0.0->sense2vec) (7.1.2)\n",
      "Requirement already satisfied: MarkupSafe>=2.0 in /Users/meister/Library/Python/3.9/lib/python/site-packages (from jinja2->spacy<4.0.0,>=3.0.0->sense2vec) (2.1.1)\n"
     ]
    }
   ],
   "source": [
    "!pip install sense2vec"
   ]
  },
  {
   "cell_type": "markdown",
   "metadata": {
    "id": "YmHK4htN0YvM"
   },
   "source": [
    "Download Sense2vec model pretrained on 2015 Reddit comments:"
   ]
  },
  {
   "cell_type": "code",
   "execution_count": 2,
   "metadata": {
    "colab": {
     "base_uri": "https://localhost:8080/"
    },
    "executionInfo": {
     "elapsed": 76520,
     "status": "ok",
     "timestamp": 1658849939229,
     "user": {
      "displayName": "Andrii Maliarenko",
      "userId": "12642501530149060659"
     },
     "user_tz": -180
    },
    "id": "zYQpihC_djqm",
    "outputId": "eb735c6c-03e4-421c-e130-a38f0ebe23e0"
   },
   "outputs": [],
   "source": [
    "import os\n",
    "if not os.path.exists('./s2v_reddit_2015_md.tar.gz'):\n",
    "  !wget https://github.com/explosion/sense2vec/releases/download/v1.0.0/s2v_reddit_2015_md.tar.gz"
   ]
  },
  {
   "cell_type": "code",
   "execution_count": 3,
   "metadata": {
    "colab": {
     "base_uri": "https://localhost:8080/"
    },
    "executionInfo": {
     "elapsed": 9138,
     "status": "ok",
     "timestamp": 1658849948346,
     "user": {
      "displayName": "Andrii Maliarenko",
      "userId": "12642501530149060659"
     },
     "user_tz": -180
    },
    "id": "7mqiBYDGfcdI",
    "outputId": "6cecf366-0739-4336-c01b-ade3a0edccd4"
   },
   "outputs": [],
   "source": [
    "if not os.path.exists('./s2v_old'):\n",
    "  !tar -xzvf ./s2v_reddit_2015_md.tar.gz"
   ]
  },
  {
   "cell_type": "markdown",
   "metadata": {
    "id": "h_0YsxKai3g3"
   },
   "source": [
    "### Standalone usage"
   ]
  },
  {
   "cell_type": "code",
   "execution_count": 4,
   "metadata": {
    "id": "-rF4hdD7hnyZ"
   },
   "outputs": [],
   "source": [
    "from sense2vec import Sense2Vec"
   ]
  },
  {
   "cell_type": "code",
   "execution_count": 5,
   "metadata": {
    "id": "-xA3YkPnhqNe"
   },
   "outputs": [],
   "source": [
    "s2v = Sense2Vec().from_disk('./s2v_old')"
   ]
  },
  {
   "cell_type": "code",
   "execution_count": 6,
   "metadata": {
    "colab": {
     "base_uri": "https://localhost:8080/"
    },
    "executionInfo": {
     "elapsed": 1465,
     "status": "ok",
     "timestamp": 1658849963791,
     "user": {
      "displayName": "Andrii Maliarenko",
      "userId": "12642501530149060659"
     },
     "user_tz": -180
    },
    "id": "RwbNiSzXh1Dw",
    "outputId": "dd6f455f-9882-4264-a9a0-cd4aa99b7d66"
   },
   "outputs": [
    {
     "data": {
      "text/plain": [
       "[('machine_learning|NOUN', 0.8987),\n",
       " ('computer_vision|NOUN', 0.8636),\n",
       " ('deep_learning|NOUN', 0.8573)]"
      ]
     },
     "execution_count": 6,
     "metadata": {},
     "output_type": "execute_result"
    }
   ],
   "source": [
    "# query pair: word/phrase and sense (part-of-speech tags or entity labels)\n",
    "query = \"natural_language_processing|NOUN\"\n",
    "assert query in s2v\n",
    "vector = s2v[query]\n",
    "freq = s2v.get_freq(query)\n",
    "s2v.most_similar(query, n=3)"
   ]
  },
  {
   "cell_type": "markdown",
   "metadata": {
    "id": "lzXlhWDryOKC"
   },
   "source": [
    "The available senses in the table:"
   ]
  },
  {
   "cell_type": "code",
   "execution_count": 7,
   "metadata": {
    "colab": {
     "base_uri": "https://localhost:8080/"
    },
    "executionInfo": {
     "elapsed": 11,
     "status": "ok",
     "timestamp": 1658849963791,
     "user": {
      "displayName": "Andrii Maliarenko",
      "userId": "12642501530149060659"
     },
     "user_tz": -180
    },
    "id": "SLEoF3jTrmg7",
    "outputId": "33120841-fadc-44df-ea99-1da2ce06c45a"
   },
   "outputs": [
    {
     "data": {
      "text/plain": [
       "['PUNCT',\n",
       " 'SYM',\n",
       " 'MONEY',\n",
       " 'PERCENT',\n",
       " 'PRODUCT',\n",
       " 'X',\n",
       " 'LANGUAGE',\n",
       " 'DET',\n",
       " 'LOC',\n",
       " 'CARDINAL',\n",
       " 'CONJ',\n",
       " 'LAW',\n",
       " 'ORG',\n",
       " 'PART',\n",
       " 'VERB',\n",
       " 'NUM',\n",
       " 'EVENT',\n",
       " 'ADP',\n",
       " 'PERSON',\n",
       " 'QUANTITY',\n",
       " 'INTJ',\n",
       " 'TIME',\n",
       " 'SPACE',\n",
       " 'DATE',\n",
       " 'ADJ',\n",
       " 'NOUN',\n",
       " 'NORP',\n",
       " 'ORDINAL',\n",
       " 'WORK OF ART',\n",
       " 'ADV',\n",
       " 'FAC',\n",
       " 'GPE']"
      ]
     },
     "execution_count": 7,
     "metadata": {},
     "output_type": "execute_result"
    }
   ],
   "source": [
    "s2v.senses"
   ]
  },
  {
   "cell_type": "markdown",
   "metadata": {
    "id": "cjlol1Vv2sYE"
   },
   "source": [
    "Result depends on the sense:"
   ]
  },
  {
   "cell_type": "code",
   "execution_count": 8,
   "metadata": {
    "colab": {
     "base_uri": "https://localhost:8080/"
    },
    "executionInfo": {
     "elapsed": 825,
     "status": "ok",
     "timestamp": 1658849964609,
     "user": {
      "displayName": "Andrii Maliarenko",
      "userId": "12642501530149060659"
     },
     "user_tz": -180
    },
    "id": "OTNaWEkojJBr",
    "outputId": "0f94d061-75e8-4d44-b5da-e1d61ba3b595"
   },
   "outputs": [
    {
     "data": {
      "text/plain": [
       "[('blackberry|NOUN', 0.8481),\n",
       " ('apple|ADJ', 0.7543),\n",
       " ('banana|NOUN', 0.751),\n",
       " ('grape|NOUN', 0.7432),\n",
       " ('apple|VERB', 0.7349),\n",
       " ('gingerbread|NOUN', 0.733),\n",
       " ('jelly_bean|NOUN', 0.7278),\n",
       " ('pear|NOUN', 0.7213),\n",
       " ('pomegranate|NOUN', 0.7205),\n",
       " ('ice_cream_sandwich|NOUN', 0.7161)]"
      ]
     },
     "execution_count": 8,
     "metadata": {},
     "output_type": "execute_result"
    }
   ],
   "source": [
    "s2v.most_similar(\"apple|NOUN\", n=10)"
   ]
  },
  {
   "cell_type": "code",
   "execution_count": 9,
   "metadata": {
    "colab": {
     "base_uri": "https://localhost:8080/"
    },
    "executionInfo": {
     "elapsed": 698,
     "status": "ok",
     "timestamp": 1658849966113,
     "user": {
      "displayName": "Andrii Maliarenko",
      "userId": "12642501530149060659"
     },
     "user_tz": -180
    },
    "id": "e1OQ1AXBW3Sw",
    "outputId": "80686982-e334-4620-f6f2-aca51b327800"
   },
   "outputs": [
    {
     "data": {
      "text/plain": [
       "[('BlackBerry|ORG', 0.9017),\n",
       " ('&gt;Apple|NOUN', 0.8947),\n",
       " ('even_Apple|ORG', 0.8858),\n",
       " ('Blackberry|PERSON', 0.884),\n",
       " ('_Apple|ORG', 0.8812),\n",
       " ('Blackberry|ORG', 0.8776),\n",
       " ('Apple|PERSON', 0.8745),\n",
       " ('Android|ORG', 0.8659),\n",
       " ('OEMs|NOUN', 0.8608),\n",
       " ('Samsung|ORG', 0.8572)]"
      ]
     },
     "execution_count": 9,
     "metadata": {},
     "output_type": "execute_result"
    }
   ],
   "source": [
    "s2v.most_similar(\"Apple|ORG\", n=10)"
   ]
  },
  {
   "cell_type": "code",
   "execution_count": 10,
   "metadata": {
    "colab": {
     "base_uri": "https://localhost:8080/"
    },
    "executionInfo": {
     "elapsed": 27,
     "status": "ok",
     "timestamp": 1658849966115,
     "user": {
      "displayName": "Andrii Maliarenko",
      "userId": "12642501530149060659"
     },
     "user_tz": -180
    },
    "id": "sisZfGHtI4Wx",
    "outputId": "207622eb-7ada-4b46-e116-110ca13b85f1"
   },
   "outputs": [
    {
     "data": {
      "text/plain": [
       "['apple|VERB',\n",
       " 'apple|ADJ',\n",
       " 'APPLE|ORG',\n",
       " 'APPLE|VERB',\n",
       " 'APPLE|ADP',\n",
       " 'APPLE|INTJ',\n",
       " 'Apple|PRODUCT',\n",
       " 'Apple|LOC',\n",
       " 'Apple|ORG',\n",
       " 'Apple|PERSON',\n",
       " 'Apple|ADJ']"
      ]
     },
     "execution_count": 10,
     "metadata": {},
     "output_type": "execute_result"
    }
   ],
   "source": [
    "s2v.get_other_senses(\"apple|NOUN\", ignore_case=True)"
   ]
  },
  {
   "cell_type": "code",
   "execution_count": 11,
   "metadata": {},
   "outputs": [
    {
     "data": {
      "text/plain": [
       "'Apple|ORG'"
      ]
     },
     "execution_count": 11,
     "metadata": {},
     "output_type": "execute_result"
    }
   ],
   "source": [
    "s2v.get_best_sense(\"apple\", [\"ORG\", \"PRODUCT\", \"NOUN\"])"
   ]
  },
  {
   "cell_type": "markdown",
   "metadata": {
    "id": "J-ocgkj70_HW"
   },
   "source": [
    "Check vector:"
   ]
  },
  {
   "cell_type": "code",
   "execution_count": 12,
   "metadata": {
    "colab": {
     "base_uri": "https://localhost:8080/"
    },
    "executionInfo": {
     "elapsed": 22,
     "status": "ok",
     "timestamp": 1658849966116,
     "user": {
      "displayName": "Andrii Maliarenko",
      "userId": "12642501530149060659"
     },
     "user_tz": -180
    },
    "id": "TBJEg2CAue8K",
    "outputId": "059a28ee-ccc0-48a2-c9cb-20bd1311b173"
   },
   "outputs": [
    {
     "data": {
      "text/plain": [
       "array([-0.02698926,  0.3866803 , -0.66829497, -0.41728875,  0.26364306,\n",
       "       -0.40081096,  0.6281248 ,  0.14720058,  0.19218649, -0.0998884 ,\n",
       "        0.26744893, -0.02889291, -0.17782305, -0.11958034, -0.03006067,\n",
       "       -0.24114996, -0.12906119,  0.19724639,  0.4380696 ,  0.05275216,\n",
       "        0.15804796,  0.19498187, -0.08526038, -0.46956626, -0.11648716,\n",
       "        0.07625313, -0.29506105, -0.42849484, -0.40789005, -0.1288717 ,\n",
       "        0.20095542,  0.61653686, -0.05818588, -0.2014371 , -0.00563217,\n",
       "       -0.5979889 , -0.21555479,  0.52637964, -0.23618117, -0.27018833,\n",
       "       -0.39888066, -0.03571676, -0.14596932,  0.06775339,  0.06443068,\n",
       "        0.02549744, -0.03748453, -0.18575297, -0.2129982 ,  0.5471347 ,\n",
       "        0.05033882, -0.40439808,  0.10965174, -0.19026929, -0.10089809,\n",
       "        0.05904212,  0.57891583,  0.185087  , -0.447115  ,  0.09574994,\n",
       "        0.11977117, -0.20688562,  0.201603  ,  0.30103895, -0.39587796,\n",
       "       -0.58227926, -0.59210235, -0.34023854, -0.06494252, -0.31400535,\n",
       "       -0.05835659, -0.1329348 ,  0.03754488,  0.07223693,  0.0788155 ,\n",
       "        0.03512442, -0.16898312, -0.46759027,  0.12015501,  0.20531727,\n",
       "       -0.25215966,  0.11278959,  0.14914244, -0.07319569, -0.1051389 ,\n",
       "       -0.35405782, -0.01590846,  0.7626038 ,  0.10982542, -0.30865374,\n",
       "        0.7341915 , -0.5765469 ,  0.18330353, -0.09544805,  0.25724652,\n",
       "        0.48381576,  0.38064373, -0.14202382,  0.18244469, -0.5397865 ,\n",
       "        0.24524757, -0.51362926, -0.2602046 , -0.5267641 ,  0.00974406,\n",
       "        0.17147443,  0.71832323,  0.3506722 , -0.20398575, -0.01372326,\n",
       "        0.20020138,  0.57235664, -0.3865703 ,  0.3475896 , -0.34620297,\n",
       "       -0.3542418 ,  0.6827689 , -0.23523508,  0.27489966,  0.1224788 ,\n",
       "        0.4113163 ,  0.2316773 , -0.02159231, -0.2533537 , -0.415468  ,\n",
       "        0.3359869 ,  0.61720645,  0.17417102], dtype=float32)"
      ]
     },
     "execution_count": 12,
     "metadata": {},
     "output_type": "execute_result"
    }
   ],
   "source": [
    "s2v[query]"
   ]
  },
  {
   "cell_type": "markdown",
   "metadata": {
    "id": "Bqfstp0r1EDn"
   },
   "source": [
    "Vectors dimensions:"
   ]
  },
  {
   "cell_type": "code",
   "execution_count": 13,
   "metadata": {
    "colab": {
     "base_uri": "https://localhost:8080/"
    },
    "executionInfo": {
     "elapsed": 19,
     "status": "ok",
     "timestamp": 1658849966117,
     "user": {
      "displayName": "Andrii Maliarenko",
      "userId": "12642501530149060659"
     },
     "user_tz": -180
    },
    "id": "zn4fqIwpulha",
    "outputId": "bd622e4e-0eba-4379-eae5-bf2b35e35b06"
   },
   "outputs": [
    {
     "data": {
      "text/plain": [
       "128"
      ]
     },
     "execution_count": 13,
     "metadata": {},
     "output_type": "execute_result"
    }
   ],
   "source": [
    "len(s2v[query])"
   ]
  },
  {
   "cell_type": "code",
   "execution_count": 14,
   "metadata": {
    "colab": {
     "base_uri": "https://localhost:8080/"
    },
    "executionInfo": {
     "elapsed": 16,
     "status": "ok",
     "timestamp": 1658849966118,
     "user": {
      "displayName": "Andrii Maliarenko",
      "userId": "12642501530149060659"
     },
     "user_tz": -180
    },
    "id": "-8R7wXO3HpWS",
    "outputId": "cb9453a2-7edd-4188-b80f-bb1ad683851d"
   },
   "outputs": [
    {
     "name": "stdout",
     "output_type": "stream",
     "text": [
      "<class 'sense2vec.sense2vec.Sense2Vec'>\n"
     ]
    }
   ],
   "source": [
    "print(type(s2v))"
   ]
  },
  {
   "cell_type": "markdown",
   "metadata": {
    "id": "0SF5JfD0Gh-q"
   },
   "source": [
    "### Usage as a spaCy pipeline component"
   ]
  },
  {
   "cell_type": "code",
   "execution_count": 15,
   "metadata": {},
   "outputs": [
    {
     "name": "stdout",
     "output_type": "stream",
     "text": [
      "Requirement already satisfied: spacy==3.4.0 in /usr/local/lib/python3.9/site-packages (3.4.0)\n",
      "Requirement already satisfied: catalogue<2.1.0,>=2.0.6 in /usr/local/lib/python3.9/site-packages (from spacy==3.4.0) (2.0.7)\n",
      "Requirement already satisfied: thinc<8.2.0,>=8.1.0 in /usr/local/lib/python3.9/site-packages (from spacy==3.4.0) (8.1.0)\n",
      "Requirement already satisfied: wasabi<1.1.0,>=0.9.1 in /usr/local/lib/python3.9/site-packages (from spacy==3.4.0) (0.9.1)\n",
      "Requirement already satisfied: cymem<2.1.0,>=2.0.2 in /usr/local/lib/python3.9/site-packages (from spacy==3.4.0) (2.0.6)\n",
      "Requirement already satisfied: jinja2 in /Users/meister/Library/Python/3.9/lib/python/site-packages (from spacy==3.4.0) (3.1.2)\n",
      "Requirement already satisfied: packaging>=20.0 in /Users/meister/Library/Python/3.9/lib/python/site-packages (from spacy==3.4.0) (21.3)\n",
      "Requirement already satisfied: pathy>=0.3.5 in /usr/local/lib/python3.9/site-packages (from spacy==3.4.0) (0.6.2)\n",
      "Requirement already satisfied: murmurhash<1.1.0,>=0.28.0 in /usr/local/lib/python3.9/site-packages (from spacy==3.4.0) (1.0.7)\n",
      "Requirement already satisfied: spacy-loggers<2.0.0,>=1.0.0 in /usr/local/lib/python3.9/site-packages (from spacy==3.4.0) (1.0.3)\n",
      "Requirement already satisfied: preshed<3.1.0,>=3.0.2 in /usr/local/lib/python3.9/site-packages (from spacy==3.4.0) (3.0.6)\n",
      "Requirement already satisfied: typer<0.5.0,>=0.3.0 in /usr/local/lib/python3.9/site-packages (from spacy==3.4.0) (0.3.2)\n",
      "Requirement already satisfied: requests<3.0.0,>=2.13.0 in /usr/local/lib/python3.9/site-packages (from spacy==3.4.0) (2.28.1)\n",
      "Requirement already satisfied: numpy>=1.15.0 in /usr/local/lib/python3.9/site-packages (from spacy==3.4.0) (1.23.1)\n",
      "Requirement already satisfied: setuptools in /Users/meister/Library/Python/3.9/lib/python/site-packages (from spacy==3.4.0) (63.2.0)\n",
      "Requirement already satisfied: pydantic!=1.8,!=1.8.1,<1.10.0,>=1.7.4 in /usr/local/lib/python3.9/site-packages (from spacy==3.4.0) (1.8.2)\n",
      "Requirement already satisfied: langcodes<4.0.0,>=3.2.0 in /usr/local/lib/python3.9/site-packages (from spacy==3.4.0) (3.3.0)\n",
      "Requirement already satisfied: spacy-legacy<3.1.0,>=3.0.9 in /usr/local/lib/python3.9/site-packages (from spacy==3.4.0) (3.0.9)\n",
      "Requirement already satisfied: tqdm<5.0.0,>=4.38.0 in /usr/local/lib/python3.9/site-packages (from spacy==3.4.0) (4.64.0)\n",
      "Requirement already satisfied: srsly<3.0.0,>=2.4.3 in /usr/local/lib/python3.9/site-packages (from spacy==3.4.0) (2.4.3)\n",
      "Requirement already satisfied: pyparsing!=3.0.5,>=2.0.2 in /Users/meister/Library/Python/3.9/lib/python/site-packages (from packaging>=20.0->spacy==3.4.0) (3.0.9)\n",
      "Requirement already satisfied: smart-open<6.0.0,>=5.2.1 in /usr/local/lib/python3.9/site-packages (from pathy>=0.3.5->spacy==3.4.0) (5.2.1)\n",
      "Requirement already satisfied: typing-extensions>=3.7.4.3 in /usr/local/lib/python3.9/site-packages (from pydantic!=1.8,!=1.8.1,<1.10.0,>=1.7.4->spacy==3.4.0) (4.3.0)\n",
      "Requirement already satisfied: idna<4,>=2.5 in /usr/local/lib/python3.9/site-packages (from requests<3.0.0,>=2.13.0->spacy==3.4.0) (3.3)\n",
      "Requirement already satisfied: urllib3<1.27,>=1.21.1 in /usr/local/lib/python3.9/site-packages (from requests<3.0.0,>=2.13.0->spacy==3.4.0) (1.26.10)\n",
      "Requirement already satisfied: charset-normalizer<3,>=2 in /usr/local/lib/python3.9/site-packages (from requests<3.0.0,>=2.13.0->spacy==3.4.0) (2.1.0)\n",
      "Requirement already satisfied: certifi>=2017.4.17 in /usr/local/lib/python3.9/site-packages (from requests<3.0.0,>=2.13.0->spacy==3.4.0) (2022.6.15)\n",
      "Requirement already satisfied: blis<0.8.0,>=0.7.8 in /usr/local/lib/python3.9/site-packages (from thinc<8.2.0,>=8.1.0->spacy==3.4.0) (0.7.8)\n",
      "Requirement already satisfied: click<7.2.0,>=7.1.1 in /usr/local/lib/python3.9/site-packages (from typer<0.5.0,>=0.3.0->spacy==3.4.0) (7.1.2)\n",
      "Requirement already satisfied: MarkupSafe>=2.0 in /Users/meister/Library/Python/3.9/lib/python/site-packages (from jinja2->spacy==3.4.0) (2.1.1)\n"
     ]
    }
   ],
   "source": [
    "!pip install spacy==3.4.0"
   ]
  },
  {
   "cell_type": "code",
   "execution_count": 16,
   "metadata": {},
   "outputs": [
    {
     "name": "stdout",
     "output_type": "stream",
     "text": [
      "\u001b[2K\u001b[38;5;2m✔ Loaded compatibility table\u001b[0m\n",
      "\u001b[1m\n",
      "================= Installed pipeline packages (spaCy v3.4.0) =================\u001b[0m\n",
      "\u001b[38;5;4mℹ spaCy installation: /usr/local/lib/python3.9/site-packages/spacy\u001b[0m\n",
      "\n",
      "NAME             SPACY            VERSION                            \n",
      "en_core_web_sm   >=3.4.0,<3.5.0   \u001b[38;5;2m3.4.0\u001b[0m   \u001b[38;5;2m✔\u001b[0m\n",
      "\n"
     ]
    }
   ],
   "source": [
    "!python3 -m spacy validate"
   ]
  },
  {
   "cell_type": "code",
   "execution_count": 17,
   "metadata": {},
   "outputs": [
    {
     "name": "stdout",
     "output_type": "stream",
     "text": [
      "Collecting en-core-web-sm==3.4.0\n",
      "  Using cached https://github.com/explosion/spacy-models/releases/download/en_core_web_sm-3.4.0/en_core_web_sm-3.4.0-py3-none-any.whl (12.8 MB)\n",
      "Requirement already satisfied: spacy<3.5.0,>=3.4.0 in /usr/local/lib/python3.9/site-packages (from en-core-web-sm==3.4.0) (3.4.0)\n",
      "Requirement already satisfied: catalogue<2.1.0,>=2.0.6 in /usr/local/lib/python3.9/site-packages (from spacy<3.5.0,>=3.4.0->en-core-web-sm==3.4.0) (2.0.7)\n",
      "Requirement already satisfied: pydantic!=1.8,!=1.8.1,<1.10.0,>=1.7.4 in /usr/local/lib/python3.9/site-packages (from spacy<3.5.0,>=3.4.0->en-core-web-sm==3.4.0) (1.8.2)\n",
      "Requirement already satisfied: langcodes<4.0.0,>=3.2.0 in /usr/local/lib/python3.9/site-packages (from spacy<3.5.0,>=3.4.0->en-core-web-sm==3.4.0) (3.3.0)\n",
      "Requirement already satisfied: thinc<8.2.0,>=8.1.0 in /usr/local/lib/python3.9/site-packages (from spacy<3.5.0,>=3.4.0->en-core-web-sm==3.4.0) (8.1.0)\n",
      "Requirement already satisfied: tqdm<5.0.0,>=4.38.0 in /usr/local/lib/python3.9/site-packages (from spacy<3.5.0,>=3.4.0->en-core-web-sm==3.4.0) (4.64.0)\n",
      "Requirement already satisfied: numpy>=1.15.0 in /usr/local/lib/python3.9/site-packages (from spacy<3.5.0,>=3.4.0->en-core-web-sm==3.4.0) (1.23.1)\n",
      "Requirement already satisfied: spacy-legacy<3.1.0,>=3.0.9 in /usr/local/lib/python3.9/site-packages (from spacy<3.5.0,>=3.4.0->en-core-web-sm==3.4.0) (3.0.9)\n",
      "Requirement already satisfied: spacy-loggers<2.0.0,>=1.0.0 in /usr/local/lib/python3.9/site-packages (from spacy<3.5.0,>=3.4.0->en-core-web-sm==3.4.0) (1.0.3)\n",
      "Requirement already satisfied: pathy>=0.3.5 in /usr/local/lib/python3.9/site-packages (from spacy<3.5.0,>=3.4.0->en-core-web-sm==3.4.0) (0.6.2)\n",
      "Requirement already satisfied: murmurhash<1.1.0,>=0.28.0 in /usr/local/lib/python3.9/site-packages (from spacy<3.5.0,>=3.4.0->en-core-web-sm==3.4.0) (1.0.7)\n",
      "Requirement already satisfied: packaging>=20.0 in /Users/meister/Library/Python/3.9/lib/python/site-packages (from spacy<3.5.0,>=3.4.0->en-core-web-sm==3.4.0) (21.3)\n",
      "Requirement already satisfied: preshed<3.1.0,>=3.0.2 in /usr/local/lib/python3.9/site-packages (from spacy<3.5.0,>=3.4.0->en-core-web-sm==3.4.0) (3.0.6)\n",
      "Requirement already satisfied: jinja2 in /Users/meister/Library/Python/3.9/lib/python/site-packages (from spacy<3.5.0,>=3.4.0->en-core-web-sm==3.4.0) (3.1.2)\n",
      "Requirement already satisfied: typer<0.5.0,>=0.3.0 in /usr/local/lib/python3.9/site-packages (from spacy<3.5.0,>=3.4.0->en-core-web-sm==3.4.0) (0.3.2)\n",
      "Requirement already satisfied: setuptools in /Users/meister/Library/Python/3.9/lib/python/site-packages (from spacy<3.5.0,>=3.4.0->en-core-web-sm==3.4.0) (63.2.0)\n",
      "Requirement already satisfied: cymem<2.1.0,>=2.0.2 in /usr/local/lib/python3.9/site-packages (from spacy<3.5.0,>=3.4.0->en-core-web-sm==3.4.0) (2.0.6)\n",
      "Requirement already satisfied: requests<3.0.0,>=2.13.0 in /usr/local/lib/python3.9/site-packages (from spacy<3.5.0,>=3.4.0->en-core-web-sm==3.4.0) (2.28.1)\n",
      "Requirement already satisfied: srsly<3.0.0,>=2.4.3 in /usr/local/lib/python3.9/site-packages (from spacy<3.5.0,>=3.4.0->en-core-web-sm==3.4.0) (2.4.3)\n",
      "Requirement already satisfied: wasabi<1.1.0,>=0.9.1 in /usr/local/lib/python3.9/site-packages (from spacy<3.5.0,>=3.4.0->en-core-web-sm==3.4.0) (0.9.1)\n",
      "Requirement already satisfied: pyparsing!=3.0.5,>=2.0.2 in /Users/meister/Library/Python/3.9/lib/python/site-packages (from packaging>=20.0->spacy<3.5.0,>=3.4.0->en-core-web-sm==3.4.0) (3.0.9)\n",
      "Requirement already satisfied: smart-open<6.0.0,>=5.2.1 in /usr/local/lib/python3.9/site-packages (from pathy>=0.3.5->spacy<3.5.0,>=3.4.0->en-core-web-sm==3.4.0) (5.2.1)\n",
      "Requirement already satisfied: typing-extensions>=3.7.4.3 in /usr/local/lib/python3.9/site-packages (from pydantic!=1.8,!=1.8.1,<1.10.0,>=1.7.4->spacy<3.5.0,>=3.4.0->en-core-web-sm==3.4.0) (4.3.0)\n",
      "Requirement already satisfied: idna<4,>=2.5 in /usr/local/lib/python3.9/site-packages (from requests<3.0.0,>=2.13.0->spacy<3.5.0,>=3.4.0->en-core-web-sm==3.4.0) (3.3)\n",
      "Requirement already satisfied: urllib3<1.27,>=1.21.1 in /usr/local/lib/python3.9/site-packages (from requests<3.0.0,>=2.13.0->spacy<3.5.0,>=3.4.0->en-core-web-sm==3.4.0) (1.26.10)\n",
      "Requirement already satisfied: charset-normalizer<3,>=2 in /usr/local/lib/python3.9/site-packages (from requests<3.0.0,>=2.13.0->spacy<3.5.0,>=3.4.0->en-core-web-sm==3.4.0) (2.1.0)\n",
      "Requirement already satisfied: certifi>=2017.4.17 in /usr/local/lib/python3.9/site-packages (from requests<3.0.0,>=2.13.0->spacy<3.5.0,>=3.4.0->en-core-web-sm==3.4.0) (2022.6.15)\n",
      "Requirement already satisfied: blis<0.8.0,>=0.7.8 in /usr/local/lib/python3.9/site-packages (from thinc<8.2.0,>=8.1.0->spacy<3.5.0,>=3.4.0->en-core-web-sm==3.4.0) (0.7.8)\n",
      "Requirement already satisfied: click<7.2.0,>=7.1.1 in /usr/local/lib/python3.9/site-packages (from typer<0.5.0,>=0.3.0->spacy<3.5.0,>=3.4.0->en-core-web-sm==3.4.0) (7.1.2)\n",
      "Requirement already satisfied: MarkupSafe>=2.0 in /Users/meister/Library/Python/3.9/lib/python/site-packages (from jinja2->spacy<3.5.0,>=3.4.0->en-core-web-sm==3.4.0) (2.1.1)\n",
      "\u001b[38;5;2m✔ Download and installation successful\u001b[0m\n",
      "You can now load the package via spacy.load('en_core_web_sm')\n"
     ]
    }
   ],
   "source": [
    "!python3 -m spacy download en_core_web_sm"
   ]
  },
  {
   "cell_type": "code",
   "execution_count": 18,
   "metadata": {
    "id": "LPJgh0pTF-En"
   },
   "outputs": [],
   "source": [
    "import spacy\n",
    "\n",
    "nlp = spacy.load(\"en_core_web_sm\")\n",
    "s2v_p = nlp.add_pipe(\"sense2vec\")\n",
    "s2v_p.from_disk('./s2v_old')\n",
    "\n",
    "doc = nlp(\"A sentence about natural language processing.\")\n",
    "assert doc[3:6].text == \"natural language processing\"\n",
    "freq = doc[3:6]._.s2v_freq\n",
    "vector = doc[3:6]._.s2v_vec\n",
    "most_similar = doc[3:6]._.s2v_most_similar(3)"
   ]
  },
  {
   "cell_type": "code",
   "execution_count": 19,
   "metadata": {
    "colab": {
     "base_uri": "https://localhost:8080/"
    },
    "executionInfo": {
     "elapsed": 15,
     "status": "ok",
     "timestamp": 1658849989187,
     "user": {
      "displayName": "Andrii Maliarenko",
      "userId": "12642501530149060659"
     },
     "user_tz": -180
    },
    "id": "VOlYhCQLHtSw",
    "outputId": "33cbf809-b365-4a2c-8633-54afc16fc573"
   },
   "outputs": [
    {
     "name": "stdout",
     "output_type": "stream",
     "text": [
      "<class 'sense2vec.component.Sense2VecComponent'>\n"
     ]
    }
   ],
   "source": [
    "print(type(s2v_p))"
   ]
  },
  {
   "cell_type": "code",
   "execution_count": 20,
   "metadata": {
    "colab": {
     "base_uri": "https://localhost:8080/"
    },
    "executionInfo": {
     "elapsed": 11,
     "status": "ok",
     "timestamp": 1658849989187,
     "user": {
      "displayName": "Andrii Maliarenko",
      "userId": "12642501530149060659"
     },
     "user_tz": -180
    },
    "id": "IJ1cNaX3G6YM",
    "outputId": "8e99a911-f0aa-4bfa-b99c-24e86f5fd97d"
   },
   "outputs": [
    {
     "data": {
      "text/plain": [
       "[(('machine learning', 'NOUN'), 0.8987),\n",
       " (('computer vision', 'NOUN'), 0.8636),\n",
       " (('deep learning', 'NOUN'), 0.8573)]"
      ]
     },
     "execution_count": 20,
     "metadata": {},
     "output_type": "execute_result"
    }
   ],
   "source": [
    "most_similar"
   ]
  },
  {
   "cell_type": "markdown",
   "metadata": {
    "id": "qE4gG4Ur5HtF"
   },
   "source": [
    "The spacy pipeline has a pos tagger and named entity recognizer components before the sense2vec component.Sense2vec component uses results from these components to create word senses."
   ]
  },
  {
   "cell_type": "code",
   "execution_count": 21,
   "metadata": {
    "id": "jZuXtnWcstS7"
   },
   "outputs": [],
   "source": [
    "doc = nlp('Power resides where men believe it resides. It’s a trick, a shadow on the wall.')"
   ]
  },
  {
   "cell_type": "code",
   "execution_count": 22,
   "metadata": {
    "colab": {
     "base_uri": "https://localhost:8080/"
    },
    "executionInfo": {
     "elapsed": 18285,
     "status": "ok",
     "timestamp": 1658850007465,
     "user": {
      "displayName": "Andrii Maliarenko",
      "userId": "12642501530149060659"
     },
     "user_tz": -180
    },
    "id": "05Ha0t_usuAQ",
    "outputId": "a818131b-837d-47b9-8aa1-bc604b49f30f"
   },
   "outputs": [
    {
     "name": "stdout",
     "output_type": "stream",
     "text": [
      "Power NOUN \n",
      " [((' power', 'NOUN'), 0.8701), (('only power', 'NOUN'), 0.8584), (('actual power', 'NOUN'), 0.8424)]\n",
      "resides VERB \n",
      " [(('resides', 'NOUN'), 0.858), (('reside', 'VERB'), 0.8311), (('residing', 'VERB'), 0.8212)]\n",
      "men NOUN \n",
      " [(('&gt;Men', 'NOUN'), 0.9238), (('&gt;men', 'NOUN'), 0.9099), ((' men', 'NOUN'), 0.9024)]\n",
      "believe VERB \n",
      " [(('beleive', 'VERB'), 0.9053), (('that', 'ADP'), 0.8564), (('claim', 'VERB'), 0.8178)]\n",
      "resides VERB \n",
      " [(('resides', 'NOUN'), 0.858), (('reside', 'VERB'), 0.8311), (('residing', 'VERB'), 0.8212)]\n",
      ". PUNCT \n",
      " [((',', 'PUNCT'), 0.9312), (('and', 'CONJ'), 0.8561), (('that', 'DET'), 0.851)]\n",
      "’s VERB \n",
      " [(('isn’t', 'VERB'), 0.9394), (('’s', 'ADV'), 0.9149), (('’s', 'PUNCT'), 0.902)]\n",
      "a DET \n",
      " [(('another', 'DET'), 0.8344), (('an', 'DET'), 0.8261), (('.', 'PUNCT'), 0.8019)]\n",
      "trick NOUN \n",
      " [(('good trick', 'NOUN'), 0.8685), (('little trick', 'NOUN'), 0.8457), (('neat trick', 'NOUN'), 0.8286)]\n",
      ", PUNCT \n",
      " [(('.', 'PUNCT'), 0.9312), (('...', 'PUNCT'), 0.8282), (('(', 'PUNCT'), 0.8245)]\n",
      "a DET \n",
      " [(('another', 'DET'), 0.8344), (('an', 'DET'), 0.8261), (('.', 'PUNCT'), 0.8019)]\n",
      "shadow NOUN \n",
      " [(('shadows', 'NOUN'), 0.8358), (('shadows', 'VERB'), 0.7754), (('dark shadow', 'NOUN'), 0.7717)]\n",
      "on ADP \n",
      " [(('off', 'ADP'), 0.8115), (('the', 'DET'), 0.7988), (('and', 'CONJ'), 0.7806)]\n",
      "the DET \n",
      " [(('in', 'ADP'), 0.8618), (('of', 'ADP'), 0.8438), (('to', 'ADP'), 0.8297)]\n",
      "wall NOUN \n",
      " [(('opposite wall', 'NOUN'), 0.8556), (('other wall', 'NOUN'), 0.8518), (('back wall', 'NOUN'), 0.8499)]\n",
      ". PUNCT \n",
      " [((',', 'PUNCT'), 0.9312), (('and', 'CONJ'), 0.8561), (('that', 'DET'), 0.851)]\n"
     ]
    }
   ],
   "source": [
    " for i in doc:\n",
    "   try:\n",
    "     print(i,i.pos_,'\\n',i._.s2v_most_similar(3))\n",
    "   except ValueError as e:\n",
    "     #If a token pos tag combination is not in the keyed vectors it raises Error so we need to catch it\n",
    "     pass"
   ]
  },
  {
   "cell_type": "markdown",
   "metadata": {
    "id": "R98AWaih3v__"
   },
   "source": [
    "For entities, the entity labels are used as the \"sense\" (instead of the token's part-of-speech tag):"
   ]
  },
  {
   "cell_type": "code",
   "execution_count": 23,
   "metadata": {
    "colab": {
     "base_uri": "https://localhost:8080/"
    },
    "executionInfo": {
     "elapsed": 1896,
     "status": "ok",
     "timestamp": 1658850009342,
     "user": {
      "displayName": "Andrii Maliarenko",
      "userId": "12642501530149060659"
     },
     "user_tz": -180
    },
    "id": "FKl8GZTnHgN-",
    "outputId": "8a584f67-20b8-4f66-f4dd-29d0301d96c3"
   },
   "outputs": [
    {
     "name": "stdout",
     "output_type": "stream",
     "text": [
      "Apple\n",
      "[(('BlackBerry', 'ORG'), 0.9017), (('&gt;Apple', 'NOUN'), 0.8947), (('even Apple', 'ORG'), 0.8858)]\n",
      "Google\n",
      "[((' Google', 'ORG'), 0.8996), (('search engine', 'NOUN'), 0.8486), (('Bing', 'NOUN'), 0.8436)]\n"
     ]
    }
   ],
   "source": [
    "doc = nlp(\"A sentence about Apple and Google.\")\n",
    "for ent in doc.ents:\n",
    "  assert ent._.in_s2v\n",
    "  print(ent.text)\n",
    "  most_similar = ent._.s2v_most_similar(3)\n",
    "  print(most_similar)"
   ]
  },
  {
   "cell_type": "markdown",
   "metadata": {
    "id": "CP4EffjwXqzo"
   },
   "source": [
    "**Training your own sense2vec vectors:**\n",
    "\n",
    "* **01_parse.py** - Use spaCy to parse the raw text and output binary DocBin (The DocBin is faster and produces smaller data sizes than pickle).\n",
    "\n",
    "* **02_preprocess.py** - DocBin to output text files in the sense2vec format (one sentence per line and merged phrases with senses).\\\n",
    "Example output:\\\n",
    "Rats|NOUN ,|PUNCT mould|NOUN and|CCONJ broken_furniture|NOUN :|PUNCT the|DET scandal|NOUN of|ADP the|DET UK|GPE 's|PART refugee_housing|NOUN\n",
    "\n",
    "* **03_glove_build_counts.py, 04_glove_train_vectors.py** or **04_fasttext_train_vectors.py** - output a plain-text vectors file.\\\n",
    "Glove model is based on leveraging global word to word co-occurance counts leveraging the entire corpus. Word2vec on the other hand leverages co-occurance within local context (neighbouring words). FastText is an extension to Word2Vec proposed by Facebook in 2016. \n",
    "\n",
    "* **05_export.py** - Expects a vectors.txt and a vocab file and exports a component that can be loaded with Sense2vec.from_disk.\n",
    "\n",
    "For more detailed documentation of the scripts, check out the source or run them with --help.\n"
   ]
  },
  {
   "cell_type": "code",
   "execution_count": 24,
   "metadata": {
    "colab": {
     "base_uri": "https://localhost:8080/"
    },
    "executionInfo": {
     "elapsed": 1451,
     "status": "ok",
     "timestamp": 1658850010787,
     "user": {
      "displayName": "Andrii Maliarenko",
      "userId": "12642501530149060659"
     },
     "user_tz": -180
    },
    "id": "k40Y-AfarK7-",
    "outputId": "dcede602-52e3-40d7-b36b-ceb4b8490028"
   },
   "outputs": [
    {
     "data": {
      "text/plain": [
       "[('_Google|ORG', 0.8996),\n",
       " ('search_engine|NOUN', 0.8486),\n",
       " ('Bing|NOUN', 0.8436),\n",
       " ('even_Google|ORG', 0.8404),\n",
       " ('google|ORG', 0.8318),\n",
       " ('Google_Search|NOUN', 0.8291),\n",
       " ('Googles|NOUN', 0.8234),\n",
       " ('&gt;Google|NOUN', 0.8138),\n",
       " ('DuckDuckGo|NOUN', 0.8127),\n",
       " ('Yahoo|ORG', 0.8038)]"
      ]
     },
     "execution_count": 24,
     "metadata": {},
     "output_type": "execute_result"
    }
   ],
   "source": [
    "s2v.most_similar(\"Google|ORG\", n=10)"
   ]
  },
  {
   "cell_type": "markdown",
   "metadata": {
    "id": "wSZh2GQwGQbd"
   },
   "source": [
    "s2v shape (set at creation):"
   ]
  },
  {
   "cell_type": "code",
   "execution_count": 25,
   "metadata": {
    "colab": {
     "base_uri": "https://localhost:8080/"
    },
    "executionInfo": {
     "elapsed": 9,
     "status": "ok",
     "timestamp": 1658850010788,
     "user": {
      "displayName": "Andrii Maliarenko",
      "userId": "12642501530149060659"
     },
     "user_tz": -180
    },
    "id": "fwSERIhw-NJp",
    "outputId": "5eb92274-653b-4b91-a29a-7c317072f15a"
   },
   "outputs": [
    {
     "data": {
      "text/plain": [
       "1195261"
      ]
     },
     "execution_count": 25,
     "metadata": {},
     "output_type": "execute_result"
    }
   ],
   "source": [
    "len(s2v)"
   ]
  },
  {
   "cell_type": "markdown",
   "metadata": {},
   "source": [
    "Number of items:"
   ]
  },
  {
   "cell_type": "code",
   "execution_count": 26,
   "metadata": {
    "colab": {
     "base_uri": "https://localhost:8080/"
    },
    "executionInfo": {
     "elapsed": 1198,
     "status": "ok",
     "timestamp": 1658850011982,
     "user": {
      "displayName": "Andrii Maliarenko",
      "userId": "12642501530149060659"
     },
     "user_tz": -180
    },
    "id": "4AAC2oHZAyqb",
    "outputId": "3f20c23e-1aa4-437b-9592-144550e433da"
   },
   "outputs": [
    {
     "data": {
      "text/plain": [
       "1187453"
      ]
     },
     "execution_count": 26,
     "metadata": {},
     "output_type": "execute_result"
    }
   ],
   "source": [
    "len(list(s2v.items()))"
   ]
  },
  {
   "cell_type": "markdown",
   "metadata": {},
   "source": [
    "Add new vector manually:"
   ]
  },
  {
   "cell_type": "code",
   "execution_count": 27,
   "metadata": {
    "id": "BkBO2dFv6_cC"
   },
   "outputs": [],
   "source": [
    "s2v.add(\"GOOGLE IS EVIL|ORG\", s2v['Google|ORG'], 123) # key, vector, freq"
   ]
  },
  {
   "cell_type": "code",
   "execution_count": 28,
   "metadata": {
    "colab": {
     "base_uri": "https://localhost:8080/"
    },
    "executionInfo": {
     "elapsed": 549,
     "status": "ok",
     "timestamp": 1658850012527,
     "user": {
      "displayName": "Andrii Maliarenko",
      "userId": "12642501530149060659"
     },
     "user_tz": -180
    },
    "id": "IGKa7X-z84z5",
    "outputId": "c17f39a6-191f-44b3-bb84-5dcaf4832def"
   },
   "outputs": [
    {
     "data": {
      "text/plain": [
       "[('GOOGLE IS EVIL|ORG', 1.0),\n",
       " ('_Google|ORG', 0.8996),\n",
       " ('search_engine|NOUN', 0.8486),\n",
       " ('Bing|NOUN', 0.8436),\n",
       " ('even_Google|ORG', 0.8404),\n",
       " ('google|ORG', 0.8318),\n",
       " ('Google_Search|NOUN', 0.8291),\n",
       " ('Googles|NOUN', 0.8234),\n",
       " ('&gt;Google|NOUN', 0.8138),\n",
       " ('DuckDuckGo|NOUN', 0.8127)]"
      ]
     },
     "execution_count": 28,
     "metadata": {},
     "output_type": "execute_result"
    }
   ],
   "source": [
    "s2v.most_similar(\"Google|ORG\", n=10)"
   ]
  },
  {
   "cell_type": "markdown",
   "metadata": {},
   "source": [
    "Shape unchanged:"
   ]
  },
  {
   "cell_type": "code",
   "execution_count": 29,
   "metadata": {
    "colab": {
     "base_uri": "https://localhost:8080/"
    },
    "executionInfo": {
     "elapsed": 10,
     "status": "ok",
     "timestamp": 1658850012528,
     "user": {
      "displayName": "Andrii Maliarenko",
      "userId": "12642501530149060659"
     },
     "user_tz": -180
    },
    "id": "lY44fMEG-D8U",
    "outputId": "e1c2d422-5342-4b79-ebbf-8a7e9c8035cc"
   },
   "outputs": [
    {
     "data": {
      "text/plain": [
       "1195261"
      ]
     },
     "execution_count": 29,
     "metadata": {},
     "output_type": "execute_result"
    }
   ],
   "source": [
    "len(s2v)"
   ]
  },
  {
   "cell_type": "markdown",
   "metadata": {},
   "source": [
    "Items was increased:"
   ]
  },
  {
   "cell_type": "code",
   "execution_count": 30,
   "metadata": {
    "colab": {
     "base_uri": "https://localhost:8080/"
    },
    "executionInfo": {
     "elapsed": 1391,
     "status": "ok",
     "timestamp": 1658850013913,
     "user": {
      "displayName": "Andrii Maliarenko",
      "userId": "12642501530149060659"
     },
     "user_tz": -180
    },
    "id": "Wu-HR33yAwyX",
    "outputId": "de1b4090-0353-4f38-d6aa-d8ceeafe7690"
   },
   "outputs": [
    {
     "data": {
      "text/plain": [
       "1187454"
      ]
     },
     "execution_count": 30,
     "metadata": {},
     "output_type": "execute_result"
    }
   ],
   "source": [
    "len(list(s2v.items()))"
   ]
  },
  {
   "cell_type": "code",
   "execution_count": 31,
   "metadata": {
    "id": "OEzxQbGmEKv6"
   },
   "outputs": [],
   "source": [
    "import numpy as np"
   ]
  },
  {
   "cell_type": "markdown",
   "metadata": {},
   "source": [
    "Create and modify sense2vec manually:"
   ]
  },
  {
   "cell_type": "code",
   "execution_count": 32,
   "metadata": {
    "id": "duxISGTXDGVn"
   },
   "outputs": [],
   "source": [
    "s2v = Sense2Vec(shape=(5, 4))\n",
    "s2v.cfg[\"senses\"] = [\"A\", \"B\", \"C\"]\n",
    "for key, freq in [(\"a|A\", 100), (\"a|B\", 50), (\"a|C\", 10), (\"b|A\", 1), (\"B|C\", 2)]:\n",
    "  s2v.add(key, np.asarray([4, 2, 2, 2], dtype=np.float32), freq)\n",
    "assert s2v.get_best_sense(\"a\") == \"a|A\"\n",
    "assert s2v.get_best_sense(\"b\") == \"B|C\"\n",
    "assert s2v.get_best_sense(\"b\", ignore_case=False) == \"b|A\"\n",
    "assert s2v.get_best_sense(\"c\") is None\n",
    "s2v.cfg[\"senses\"] = []\n",
    "assert s2v.get_best_sense(\"a\") is None\n",
    "assert s2v.get_best_sense(\"b\", [\"A\"]) == \"b|A\"\n",
    "assert s2v.get_best_sense(\"b\", [\"A\", \"C\"]) == \"B|C\""
   ]
  },
  {
   "cell_type": "code",
   "execution_count": 33,
   "metadata": {
    "colab": {
     "base_uri": "https://localhost:8080/"
    },
    "executionInfo": {
     "elapsed": 15,
     "status": "ok",
     "timestamp": 1658850013915,
     "user": {
      "displayName": "Andrii Maliarenko",
      "userId": "12642501530149060659"
     },
     "user_tz": -180
    },
    "id": "JiwsychQEyBZ",
    "outputId": "2271f2d1-b667-44e8-dfb3-185adb309eef"
   },
   "outputs": [
    {
     "data": {
      "text/plain": [
       "[('B|C', 1.0), ('b|A', 1.0), ('a|C', 1.0), ('a|B', 1.0)]"
      ]
     },
     "execution_count": 33,
     "metadata": {},
     "output_type": "execute_result"
    }
   ],
   "source": [
    "s2v.most_similar(\"a|A\", n=10)"
   ]
  }
 ],
 "metadata": {
  "colab": {
   "background_execution": "on",
   "collapsed_sections": [],
   "machine_shape": "hm",
   "name": "sense2vec_test.ipynb",
   "provenance": []
  },
  "gpuClass": "standard",
  "kernelspec": {
   "display_name": "Python 3 (ipykernel)",
   "language": "python",
   "name": "python3"
  },
  "language_info": {
   "codemirror_mode": {
    "name": "ipython",
    "version": 3
   },
   "file_extension": ".py",
   "mimetype": "text/x-python",
   "name": "python",
   "nbconvert_exporter": "python",
   "pygments_lexer": "ipython3",
   "version": "3.9.12"
  }
 },
 "nbformat": 4,
 "nbformat_minor": 1
}
